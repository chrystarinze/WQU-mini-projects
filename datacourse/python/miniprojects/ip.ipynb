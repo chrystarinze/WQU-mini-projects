{
 "cells": [
  {
   "cell_type": "code",
   "execution_count": 20,
   "metadata": {},
   "outputs": [],
   "source": [
    "%matplotlib inline\n",
    "import matplotlib\n",
    "import seaborn as sns\n",
    "sns.set()\n",
    "matplotlib.rcParams['figure.dpi'] = 144"
   ]
  },
  {
   "cell_type": "code",
   "execution_count": 21,
   "metadata": {},
   "outputs": [],
   "source": [
    "matplotlib.rcParams['savefig.dpi'] = 144"
   ]
  },
  {
   "cell_type": "code",
   "execution_count": 22,
   "metadata": {},
   "outputs": [],
   "source": [
    "from static_grader import grader"
   ]
  },
  {
   "cell_type": "markdown",
   "metadata": {},
   "source": [
    "# Program Flow exercises\n",
    "\n",
    "The objective of these exercises is to develop your ability to use iteration and conditional logic to build reusable functions. We will be extending our `get_primes` example from the [Program Flow notebook](../PY_ProgramFlow.ipynb) for testing whether much larger numbers are prime. Large primes are useful for encryption. It is too slow to test every possible factor of a large number to determine if it is prime, so we will take a different approach."
   ]
  },
  {
   "cell_type": "markdown",
   "metadata": {},
   "source": [
    "## Exercise 1: `mersenne_numbers`\n",
    "\n",
    "A Mersenne number is any number that can be written as $2^p - 1$ for some $p$. For example, 3 is a Mersenne number ($2^2 - 1$) as is 31 ($2^5 - 1$). We will see later on that it is easy to test if Mersenne numbers are prime.\n",
    "\n",
    "Write a function that accepts an exponent $p$ and returns the corresponding Mersenne number."
   ]
  },
  {
   "cell_type": "code",
   "execution_count": 4,
   "metadata": {},
   "outputs": [
    {
     "data": {
      "text/plain": [
       "3"
      ]
     },
     "execution_count": 4,
     "metadata": {},
     "output_type": "execute_result"
    }
   ],
   "source": [
    "def mersenne_number(p):\n",
    "    ans = ((2**p)-1)\n",
    "    return ans\n",
    "\n",
    "mersenne_number(2)\n"
   ]
  },
  {
   "cell_type": "code",
   "execution_count": 5,
   "metadata": {},
   "outputs": [
    {
     "ename": "NameError",
     "evalue": "name 'is_prime' is not defined",
     "output_type": "error",
     "traceback": [
      "\u001b[0;31m---------------------------------------------------------------------------\u001b[0m",
      "\u001b[0;31mNameError\u001b[0m                                 Traceback (most recent call last)",
      "\u001b[0;32m<ipython-input-5-e557bedaf598>\u001b[0m in \u001b[0;36m<module>\u001b[0;34m()\u001b[0m\n\u001b[0;32m----> 1\u001b[0;31m \u001b[0mis_prime\u001b[0m\u001b[0;34m(\u001b[0m\u001b[0;34m)\u001b[0m\u001b[0;34m\u001b[0m\u001b[0;34m\u001b[0m\u001b[0m\n\u001b[0m",
      "\u001b[0;31mNameError\u001b[0m: name 'is_prime' is not defined"
     ]
    }
   ],
   "source": [
    "is_prime()"
   ]
  },
  {
   "cell_type": "markdown",
   "metadata": {},
   "source": [
    "Mersenne numbers can only be prime if their exponent, $p$, is prime. Make a list of the Mersenne numbers for all primes $p$ between 3 and 65 (there should be 17 of them).\n",
    "\n",
    "Hint: It may be useful to modify the `is_prime` and `get_primes` functions from [the Program Flow notebook](PY_ProgramFlow.ipynb) for use in this problem."
   ]
  },
  {
   "cell_type": "code",
   "execution_count": 12,
   "metadata": {},
   "outputs": [
    {
     "name": "stdout",
     "output_type": "stream",
     "text": [
      "[0, 1, 2]\n"
     ]
    }
   ],
   "source": [
    "# we can make a list like this\n",
    "my_list = [0, 1, 2]\n",
    "print(my_list)"
   ]
  },
  {
   "cell_type": "code",
   "execution_count": 13,
   "metadata": {},
   "outputs": [
    {
     "name": "stdout",
     "output_type": "stream",
     "text": [
      "[]\n",
      "[0, 1, 2]\n"
     ]
    }
   ],
   "source": [
    "# we can also make an empty list and add items to it\n",
    "another_list = []\n",
    "print(another_list)\n",
    "\n",
    "for item in my_list:\n",
    "    another_list.append(item)\n",
    "\n",
    "print(another_list)"
   ]
  },
  {
   "cell_type": "code",
   "execution_count": 33,
   "metadata": {},
   "outputs": [
    {
     "data": {
      "text/plain": [
       "[7,\n",
       " 31,\n",
       " 127,\n",
       " 2047,\n",
       " 8191,\n",
       " 131071,\n",
       " 524287,\n",
       " 8388607,\n",
       " 536870911,\n",
       " 2147483647,\n",
       " 137438953471,\n",
       " 2199023255551,\n",
       " 8796093022207,\n",
       " 140737488355327,\n",
       " 9007199254740991,\n",
       " 576460752303423487,\n",
       " 2305843009213693951]"
      ]
     },
     "execution_count": 33,
     "metadata": {},
     "output_type": "execute_result"
    }
   ],
   "source": [
    "def is_prime(number):\n",
    "    return ...\n",
    "\n",
    "def get_primes(n_start, n_end):\n",
    "    return ...\n",
    "def is_prime(number):\n",
    "    if number <= 1:\n",
    "        return False\n",
    "    \n",
    "    for factor in range(2, number):\n",
    "        if number % factor == 0:\n",
    "            return False\n",
    "\n",
    "    return True\n",
    "\n",
    "def get_primes(m, n):\n",
    "    my_list = []\n",
    "    for number in range(m, n):\n",
    "        if is_prime(number):\n",
    "            my_list.append(number)\n",
    "    return my_list\n",
    "\n",
    "        \n",
    "def mersenne_from_primes(m, n):\n",
    "    another_list = []\n",
    "    my_list = get_primes(m, n)\n",
    "    for p in my_list:\n",
    "        ans = ((2**p)-1)\n",
    "        another_list.append(ans)\n",
    "    return another_list\n",
    "\n",
    "mersennes = mersenne_from_primes(3, 66)\n",
    "mersennes"
   ]
  },
  {
   "cell_type": "code",
   "execution_count": 34,
   "metadata": {},
   "outputs": [
    {
     "data": {
      "text/plain": [
       "[3, 5, 7, 11, 13, 17, 19, 23, 29, 31, 37, 41, 43, 47, 53, 59, 61]"
      ]
     },
     "execution_count": 34,
     "metadata": {},
     "output_type": "execute_result"
    }
   ],
   "source": [
    "get_primes(3, 66)"
   ]
  },
  {
   "cell_type": "markdown",
   "metadata": {},
   "source": [
    "The next cell shows a dummy solution, a list of 17 sevens. Alter the next cell to make use of the functions you've defined above to create the appropriate list of Mersenne numbers."
   ]
  },
  {
   "cell_type": "code",
   "execution_count": 7,
   "metadata": {},
   "outputs": [
    {
     "data": {
      "text/plain": [
       "[7,\n",
       " 31,\n",
       " 127,\n",
       " 2047,\n",
       " 8191,\n",
       " 131071,\n",
       " 524287,\n",
       " 8388607,\n",
       " 536870911,\n",
       " 2147483647,\n",
       " 137438953471,\n",
       " 2199023255551,\n",
       " 8796093022207,\n",
       " 140737488355327,\n",
       " 9007199254740991,\n",
       " 576460752303423487,\n",
       " 2305843009213693951]"
      ]
     },
     "execution_count": 7,
     "metadata": {},
     "output_type": "execute_result"
    }
   ],
   "source": [
    "mersennes = mersenne_from_primes(3, 66)\n",
    "mersennes"
   ]
  },
  {
   "cell_type": "code",
   "execution_count": 24,
   "metadata": {},
   "outputs": [
    {
     "name": "stdout",
     "output_type": "stream",
     "text": [
      "==================\n",
      "Your score:  1.0\n",
      "==================\n"
     ]
    }
   ],
   "source": [
    "grader.score.ip__mersenne_numbers(mersennes)"
   ]
  },
  {
   "cell_type": "markdown",
   "metadata": {},
   "source": [
    "## Exercise 2: `lucas_lehmer`\n",
    "\n",
    "We can test if a Mersenne number is prime using the [Lucas-Lehmer test](https://en.wikipedia.org/wiki/Lucas%E2%80%93Lehmer_primality_test). First let's write a function that generates the sequence used in the test. Given a Mersenne number with exponent $p$, the sequence can be defined as\n",
    "\n",
    "$$ n_0 = 4 $$\n",
    "$$ n_i = (n_{i-1}^2 - 2) mod (2^p - 1) $$\n",
    "\n",
    "Write a function that accepts the exponent $p$ of a Mersenne number and returns the Lucas-Lehmer sequence up to $i = p - 2$ (inclusive). Remember that the [modulo operation](https://en.wikipedia.org/wiki/Modulo_operation) is implemented in Python as `%`."
   ]
  },
  {
   "cell_type": "code",
   "execution_count": 16,
   "metadata": {},
   "outputs": [],
   "source": [
    "def lucas_lehme(p):\n",
    "    n0 = 4\n",
    "    for i in range (p - 1):\n",
    "        p1 = ((n-1)**2) - 2\n",
    "        p2 = ((2**p) - 1)\n",
    "        n = p1 % p2,\n",
    "        \n",
    "def lucas_lehmer (p):\n",
    "    ll_list=[4]\n",
    "    print (4)\n",
    "    for i in range(1, p-1):\n",
    "        ll_list.append((ll_list[i-1]**2 - 2) % (2**p-1))\n",
    "        print(ll_list[i])\n",
    "    return ll_list"
   ]
  },
  {
   "cell_type": "markdown",
   "metadata": {},
   "source": [
    "Use your function to calculate the Lucas-Lehmer series for $p = 17$ and pass the result to the grader."
   ]
  },
  {
   "cell_type": "code",
   "execution_count": 17,
   "metadata": {},
   "outputs": [
    {
     "name": "stdout",
     "output_type": "stream",
     "text": [
      "4\n",
      "14\n",
      "194\n",
      "37634\n",
      "95799\n",
      "119121\n",
      "66179\n",
      "53645\n",
      "122218\n",
      "126220\n",
      "70490\n",
      "69559\n",
      "99585\n",
      "78221\n",
      "130559\n",
      "0\n",
      "==================\n",
      "Your score:  1.0\n",
      "==================\n"
     ]
    }
   ],
   "source": [
    "ll_result = lucas_lehmer (17)\n",
    "ll_result\n",
    "\n",
    "grader.score.ip__lucas_lehmer(ll_result)"
   ]
  },
  {
   "cell_type": "markdown",
   "metadata": {},
   "source": [
    "## Exercise 3: `mersenne_primes`\n",
    "\n",
    "For a given Mersenne number with exponent $p$, the number is prime if the Lucas-Lehmer series is 0 at position $p-2$. Write a function that tests if a Mersenne number with exponent $p$ is prime. Test if the Mersenne numbers with prime $p$ between 3 and 65 (i.e. 3, 5, 7, ..., 61) are prime. Your final answer should be a list of tuples consisting of `(Mersenne exponent, 0)` (or `1`) for each Mersenne number you test, where `0` and `1` are replacements for `False` and `True` respectively.\n",
    "\n",
    "_HINT: The `zip` function is useful for combining two lists into a list of tuples_"
   ]
  },
  {
   "cell_type": "code",
   "execution_count": 2,
   "metadata": {},
   "outputs": [],
   "source": [
    "def mersenne_number(p):\n",
    "    ans = ((2**p)-1)\n",
    "    return ans\n",
    "\n",
    "\n",
    "def lucas_lehmer (p):\n",
    "    ll_list=[4]\n",
    "    print (4)\n",
    "    for i in range(1, p-1):\n",
    "        ll_list.append((ll_list[i-1]**2 - 2) % (2**p-1))\n",
    "        print(ll_list[i])\n",
    "    return ll_list\n",
    "\n",
    "def print_primes(m, n):\n",
    "    #This function returns a list of all prime nubers between m and n-1\n",
    "    my_list = []\n",
    "    for number in range(m, n):\n",
    "        if is_prime(number):\n",
    "            my_list.append(number)\n",
    "    return my_list"
   ]
  },
  {
   "cell_type": "code",
   "execution_count": null,
   "metadata": {},
   "outputs": [],
   "source": [
    "def mersenne_is_prime(p):\n",
    "    ll_series = lucas_lehmer(p)\n",
    "    if ll_series[-1] == 0:\n",
    "        return True\n",
    "    else:\n",
    "        return False\n",
    "\n",
    "\n",
    "print(mersenne_is_prime(17))"
   ]
  },
  {
   "cell_type": "code",
   "execution_count": null,
   "metadata": {},
   "outputs": [],
   "source": [
    "tested_mersennes = mersenne_from_primes(3, 66)\n",
    "results = []\n",
    "for p in print_primes(3, 66):\n",
    "    results.append(mersenne_is_prime(p))\n",
    "        "
   ]
  },
  {
   "cell_type": "code",
   "execution_count": null,
   "metadata": {},
   "outputs": [],
   "source": [
    "m_results = [int(result) for result in results]\n",
    "Final = list(zip(tested_mersennes, m_results))\n",
    "\n",
    "print(m_results)\n",
    "print(tested_mersennes)\n",
    "print(Final)"
   ]
  },
  {
   "cell_type": "code",
   "execution_count": null,
   "metadata": {},
   "outputs": [],
   "source": []
  },
  {
   "cell_type": "code",
   "execution_count": null,
   "metadata": {},
   "outputs": [],
   "source": [
    "def ll_prime(p):\n",
    "    ll_result = lucas_lehmer(p)[p-2]\n",
    "    if ll_result == 0:\n",
    "        return (p, 1)\n",
    "    return (p, 0)\n",
    "\n",
    "mersenne_primes = [ll_prime(number) for number in get_primes(3, 66)]\n"
   ]
  },
  {
   "cell_type": "code",
   "execution_count": 30,
   "metadata": {},
   "outputs": [
    {
     "name": "stdout",
     "output_type": "stream",
     "text": [
      "4\n",
      "0\n",
      "4\n",
      "14\n",
      "8\n",
      "0\n",
      "4\n",
      "14\n",
      "67\n",
      "42\n",
      "111\n",
      "0\n",
      "4\n",
      "14\n",
      "194\n",
      "788\n",
      "701\n",
      "119\n",
      "1877\n",
      "240\n",
      "282\n",
      "1736\n",
      "4\n",
      "14\n",
      "194\n",
      "4870\n",
      "3953\n",
      "5970\n",
      "1857\n",
      "36\n",
      "1294\n",
      "3470\n",
      "128\n",
      "0\n",
      "4\n",
      "14\n",
      "194\n",
      "37634\n",
      "95799\n",
      "119121\n",
      "66179\n",
      "53645\n",
      "122218\n",
      "126220\n",
      "70490\n",
      "69559\n",
      "99585\n",
      "78221\n",
      "130559\n",
      "0\n",
      "4\n",
      "14\n",
      "194\n",
      "37634\n",
      "218767\n",
      "510066\n",
      "386344\n",
      "323156\n",
      "218526\n",
      "504140\n",
      "103469\n",
      "417706\n",
      "307417\n",
      "382989\n",
      "275842\n",
      "85226\n",
      "523263\n",
      "0\n",
      "4\n",
      "14\n",
      "194\n",
      "37634\n",
      "7031978\n",
      "7033660\n",
      "1176429\n",
      "7643358\n",
      "3179743\n",
      "2694768\n",
      "763525\n",
      "4182158\n",
      "7004001\n",
      "1531454\n",
      "5888805\n",
      "1140622\n",
      "4321431\n",
      "7041324\n",
      "2756392\n",
      "1280050\n",
      "6563009\n",
      "6107895\n",
      "4\n",
      "14\n",
      "194\n",
      "37634\n",
      "342576132\n",
      "250734296\n",
      "433300702\n",
      "16341479\n",
      "49808751\n",
      "57936161\n",
      "211467447\n",
      "71320725\n",
      "91230447\n",
      "153832672\n",
      "217471443\n",
      "239636427\n",
      "223645010\n",
      "90243197\n",
      "27374393\n",
      "490737401\n",
      "35441039\n",
      "303927542\n",
      "202574536\n",
      "515018664\n",
      "330289146\n",
      "148819211\n",
      "365171774\n",
      "458738443\n",
      "4\n",
      "14\n",
      "194\n",
      "37634\n",
      "1416317954\n",
      "669670838\n",
      "1937259419\n",
      "425413602\n",
      "842014276\n",
      "12692426\n",
      "2044502122\n",
      "1119438707\n",
      "1190075270\n",
      "1450757861\n",
      "877666528\n",
      "630853853\n",
      "940321271\n",
      "512995887\n",
      "692931217\n",
      "1883625615\n",
      "1992425718\n",
      "721929267\n",
      "27220594\n",
      "1570086542\n",
      "1676390412\n",
      "1159251674\n",
      "211987665\n",
      "1181536708\n",
      "65536\n",
      "0\n",
      "4\n",
      "14\n",
      "194\n",
      "37634\n",
      "1416317954\n",
      "111419319480\n",
      "75212031451\n",
      "42117743384\n",
      "134212256520\n",
      "54923239684\n",
      "61369726979\n",
      "100682126153\n",
      "46790825955\n",
      "120336432403\n",
      "15532303443\n",
      "43487582705\n",
      "63215664337\n",
      "24881968247\n",
      "36378170995\n",
      "23347868395\n",
      "34319987212\n",
      "27325339261\n",
      "67024860468\n",
      "67821607698\n",
      "45433743622\n",
      "32514699513\n",
      "51489094388\n",
      "44855569738\n",
      "31479590378\n",
      "32455804440\n",
      "54840899833\n",
      "71222372297\n",
      "35230286592\n",
      "24416019713\n",
      "80429963578\n",
      "117093979072\n",
      "4\n",
      "14\n",
      "194\n",
      "37634\n",
      "1416317954\n",
      "936039357261\n",
      "138087482816\n",
      "732796875732\n",
      "1310689168096\n",
      "2039757563376\n",
      "1958864550940\n",
      "1204974397864\n",
      "1760902154209\n",
      "627974964089\n",
      "621098408530\n",
      "2033435076537\n",
      "1756790903255\n",
      "1869608785509\n",
      "813059806403\n",
      "2133168725211\n",
      "330659108721\n",
      "973542231931\n",
      "1918555165622\n",
      "629498535754\n",
      "943274618761\n",
      "388990169753\n",
      "1261413657457\n",
      "2198852974452\n",
      "1531052207864\n",
      "1658528204794\n",
      "1757157311370\n",
      "1370256634670\n",
      "17648194033\n",
      "1467474186945\n",
      "2185108805956\n",
      "110389133421\n",
      "174248223207\n",
      "2059341505595\n",
      "1222323839191\n",
      "856605019673\n",
      "4\n",
      "14\n",
      "194\n",
      "37634\n",
      "1416317954\n",
      "7533108439764\n",
      "2102210667306\n",
      "6918869226827\n",
      "5175535050322\n",
      "8206606087476\n",
      "1325849670822\n",
      "5632808580822\n",
      "973525364261\n",
      "5998615745535\n",
      "1115110782947\n",
      "368544808728\n",
      "6118995402177\n",
      "5055245671678\n",
      "1099682060997\n",
      "5120165924654\n",
      "6383299852581\n",
      "5389865622924\n",
      "2688421203237\n",
      "8098324613254\n",
      "8630186160093\n",
      "2442682936985\n",
      "519092357387\n",
      "5911194857828\n",
      "2776822895882\n",
      "7967266878014\n",
      "715596285842\n",
      "3329077681494\n",
      "4832101757200\n",
      "5372986349133\n",
      "6273032989049\n",
      "5105733756511\n",
      "1200756922668\n",
      "7246990262022\n",
      "1088867464536\n",
      "3100612613655\n",
      "8271814102294\n",
      "5774401272921\n",
      "4\n",
      "14\n",
      "194\n",
      "37634\n",
      "1416317954\n",
      "25125294270383\n",
      "17476507908189\n",
      "85079018803505\n",
      "47360981023535\n",
      "39046148967560\n",
      "137653781390795\n",
      "131714715314256\n",
      "8708539861091\n",
      "119033228659006\n",
      "32988174764748\n",
      "117053282325316\n",
      "92880590281529\n",
      "80340547039919\n",
      "100100458276852\n",
      "38472609598017\n",
      "15134735050545\n",
      "51350752209196\n",
      "61053486179717\n",
      "4288887928647\n",
      "16913368202590\n",
      "57385772824368\n",
      "95952494266999\n",
      "70215437689446\n",
      "2928963359482\n",
      "125945366598628\n",
      "36102331842336\n",
      "115030637294175\n",
      "114498928614302\n",
      "33460688087025\n",
      "9645522574825\n",
      "3514143730163\n",
      "32497911585258\n",
      "76676213752827\n",
      "57202940754580\n",
      "104935597992723\n",
      "121971205997790\n",
      "5879013259714\n",
      "77716517677586\n",
      "132222855545109\n",
      "48035103733327\n",
      "96699253829728\n",
      "4\n",
      "14\n",
      "194\n",
      "37634\n",
      "1416317954\n",
      "6358312270246112\n",
      "1715474889010726\n",
      "1789166790851859\n",
      "5612645876409312\n",
      "5514630427547170\n",
      "5545204842114531\n",
      "3624113428932931\n",
      "1442394919141367\n",
      "3079751272353918\n",
      "1205943386738897\n",
      "3546024977620002\n",
      "1770323371210156\n",
      "4173229072429397\n",
      "3346170444659406\n",
      "584639812042756\n",
      "2544571322166930\n",
      "6957382028639249\n",
      "1076822143631016\n",
      "6634818928722883\n",
      "6298245626828825\n",
      "5072866205726307\n",
      "8029404749340149\n",
      "5162737072130971\n",
      "2732676031871195\n",
      "2443980336168924\n",
      "7585928650249526\n",
      "4289605865136651\n",
      "5762531283620430\n",
      "6811593785597656\n",
      "7807141019569872\n",
      "260029898882076\n",
      "7519194085161162\n",
      "6469518128811960\n",
      "1746719520003263\n",
      "3450043444928564\n",
      "5313050590037445\n",
      "7330814715745278\n",
      "8939557547608643\n",
      "4659662833542624\n",
      "3159089633546819\n",
      "5931277566409394\n",
      "4568457529505136\n",
      "4843228923158626\n",
      "5260668697282027\n",
      "3840524021793255\n",
      "2201776961465454\n",
      "5810550306096509\n",
      "4\n",
      "14\n",
      "194\n",
      "37634\n",
      "1416317954\n",
      "276574289912475653\n",
      "407428811417350079\n",
      "357033802182798966\n",
      "376313525297482947\n",
      "127815204936333389\n",
      "339794242789301579\n",
      "112486259952283467\n",
      "77500224084998745\n",
      "257964438650647478\n",
      "461222712094830346\n",
      "358853945633775818\n",
      "340894883161764183\n",
      "420795809767511783\n",
      "403632489430159864\n",
      "500137444491001774\n",
      "512429566616200805\n",
      "92296395761735368\n",
      "251429207888856824\n",
      "557685134365649581\n",
      "24025891795965244\n",
      "92588887029631620\n",
      "511411940043278813\n",
      "134714800134633935\n",
      "112742003466760780\n",
      "311756257597236162\n",
      "230935441477371364\n",
      "163782402797722595\n",
      "364430952247421060\n",
      "197573989331570372\n",
      "399051281107960146\n",
      "234670981125540653\n",
      "110976559902140266\n",
      "411027297177286299\n",
      "474387735470909444\n",
      "173347638666183217\n",
      "572317887396381123\n",
      "318867052236103130\n",
      "66251075631247054\n",
      "450745852641840145\n",
      "355392681947917264\n",
      "26859842359820565\n",
      "481353328823688864\n",
      "135823794085639689\n",
      "379991990971870840\n",
      "100738003432840926\n",
      "393959224500881444\n",
      "19130306266063236\n",
      "425266939645426679\n",
      "409515149533844779\n",
      "301785845830499619\n",
      "46607054295922621\n",
      "374344564583215270\n",
      "450529175803834166\n",
      "4\n",
      "14\n",
      "194\n",
      "37634\n",
      "1416317954\n",
      "2005956546822746114\n",
      "360360107812989935\n",
      "21902747593568545\n",
      "1740602589084945420\n",
      "1337198076820436604\n",
      "2247350346121565718\n",
      "83171871456026787\n",
      "582723273476042577\n",
      "389768199659558512\n",
      "1660083560587298637\n",
      "1309051187682605027\n",
      "2060268568186095243\n",
      "1727984905136219803\n",
      "1123503237312787381\n",
      "720442006828744208\n",
      "1762244237164037571\n",
      "675035788244419149\n",
      "403242138936649547\n",
      "23218429299703654\n",
      "2303338777166369587\n",
      "1807999318695779203\n",
      "2117213806962939560\n",
      "608422148964310898\n",
      "1994472770237557072\n",
      "505071132657882993\n",
      "1458686264893839860\n",
      "828943682511799464\n",
      "1873899805900111440\n",
      "2100166639529159434\n",
      "1690337638073925992\n",
      "1850462809098646917\n",
      "655691867230185654\n",
      "1312985360173846259\n",
      "555029261697599761\n",
      "361044435199227874\n",
      "526190922173809863\n",
      "1323436870952128874\n",
      "891169157258972721\n",
      "185842366834216629\n",
      "222804261526276637\n",
      "991039614021822014\n",
      "481713520561357424\n",
      "1344980214107405881\n",
      "1970899971015200366\n",
      "1072613472477948613\n",
      "1908660977355480791\n",
      "863790468803724241\n",
      "2198539655050736259\n",
      "1534797684548241153\n",
      "257154353612781495\n",
      "2098355710732986488\n",
      "1394647967359914492\n",
      "1080792493261747995\n",
      "2147483648\n",
      "0\n",
      "[(3, 1), (5, 1), (7, 1), (11, 0), (13, 1), (17, 1), (19, 1), (23, 0), (29, 0), (31, 1), (37, 0), (41, 0), (43, 0), (47, 0), (53, 0), (59, 0), (61, 1)]\n"
     ]
    }
   ],
   "source": [
    "def get_primes(n_start, n_end):\n",
    "    primes=range(n_start, n_end)\n",
    "    prime_list = []\n",
    "    for number in primes:\n",
    "        if is_prime(number):\n",
    "            prime_list.append(number)\n",
    "    return prime_list\n",
    "\n",
    "\n",
    "p=get_primes(3,66)\n",
    "def ll_prime(p):\n",
    "    z=[]\n",
    "    for number in p:\n",
    "        x=lucas_lehmer(number)\n",
    "        if x[number-2]==0:\n",
    "            z.append(1)\n",
    "        else:\n",
    "            z.append(0)\n",
    "    return z\n",
    "z=ll_prime(p)\n",
    "output=list(zip(p,z))\n",
    "\n",
    "mersenne_primes = output\n",
    "print(mersenne_primes)"
   ]
  },
  {
   "cell_type": "code",
   "execution_count": 31,
   "metadata": {},
   "outputs": [
    {
     "name": "stdout",
     "output_type": "stream",
     "text": [
      "==================\n",
      "Your score:  1.0\n",
      "==================\n"
     ]
    }
   ],
   "source": [
    "\n",
    "\n",
    "grader.score.ip__mersenne_primes(mersenne_primes)"
   ]
  },
  {
   "cell_type": "markdown",
   "metadata": {},
   "source": [
    "## Exercise 4: Optimize `is_prime`\n",
    "\n",
    "You might have noticed that the primality check `is_prime` we developed before is somewhat slow for large numbers. This is because we are doing a ton of extra work checking every possible factor of the tested number. We will use two optimizations to make a `is_prime_fast` function.\n",
    "\n",
    "The first optimization takes advantage of the fact that two is the only even prime.  Thus we can check if a number is even and as long as its greater than 2, we know that it is not prime.\n",
    "\n",
    "Our second optimization takes advantage of the fact that when checking factors, we only need to check odd factors up to the square root of a number.  Consider a number $n$ decomposed into factors $n=ab$.  There are two cases, either $n$ is prime and without loss of generality, $a=n, b=1$ or $n$ is not prime and $a,b \\neq n,1$.  In this case, if $a > \\sqrt{n}$, then $b<\\sqrt{n}$.  So we only need to check all possible values of $b$ and we get the values of $a$ for free!  This means that even the simple method of checking factors will increase in complexity as a square root compared to the size of the number instead of linearly.\n",
    "\n",
    "Lets write the function to do this and check the speed!  `is_prime_fast` will take a number and return whether or not it is prime.\n",
    "\n",
    "You will see the functions followed by a cell with an `assert` statement.  These cells should run and produce no output, if they produce an error, then your function needs to be modified.  Do not modify the assert statements, they are exactly as they should be!"
   ]
  },
  {
   "cell_type": "code",
   "execution_count": 29,
   "metadata": {},
   "outputs": [],
   "source": [
    "import math\n",
    "\n",
    "\n",
    "\n",
    "def is_prime(number):\n",
    "    #This function tells if a number is prime or not.\n",
    "    if number <= 1:\n",
    "        return False\n",
    "    \n",
    "    for factor in range(2, number):\n",
    "        if number % factor == 0:\n",
    "            return False\n",
    "\n",
    "    return True\n",
    "\n",
    "\n",
    "\n",
    "def is_prime_fast(number):\n",
    "    if number <= 1: #for 0, 1 and negative numbers\n",
    "        return False\n",
    "    if number % 2 == 0: #for even\n",
    "        if number == 2:\n",
    "            return True\n",
    "        else:\n",
    "            return False\n",
    "    \n",
    "    if number % 2 != 0 and math.sqrt(number) > 3:\n",
    "        k = math.sqrt(number)\n",
    "        for i in range(3, int(k) + 1):\n",
    "            if number % i == 0:\n",
    "                return False\n",
    "        return True\n",
    "                \n",
    "    for factor in range(2, number):\n",
    "            if number % factor == 0:\n",
    "                return False\n",
    "    return True"
   ]
  },
  {
   "cell_type": "code",
   "execution_count": 30,
   "metadata": {},
   "outputs": [
    {
     "name": "stdout",
     "output_type": "stream",
     "text": [
      "[(False, False), (False, False), (True, True), (True, True), (False, False), (True, True), (False, False), (True, True), (False, False), (False, False), (False, False), (True, True), (False, False), (True, True), (False, False), (False, False), (False, False), (True, True), (False, False), (True, True), (False, False), (False, False), (False, False), (True, True), (False, False), (False, False), (False, False), (False, False), (False, False), (True, True), (False, False), (True, True), (False, False), (False, False), (False, False), (False, False), (False, False), (True, True), (False, False), (False, False), (False, False), (True, True), (False, False), (True, True), (False, False), (False, False), (False, False), (True, True), (False, False), (False, False), (False, False), (False, False), (False, False), (True, True), (False, False), (False, False), (False, False), (False, False), (False, False), (True, True), (False, False), (True, True), (False, False), (False, False), (False, False), (False, False), (False, False), (True, True), (False, False), (False, False), (False, False), (True, True), (False, False), (True, True), (False, False), (False, False), (False, False), (False, False), (False, False), (True, True), (False, False), (False, False), (False, False), (True, True), (False, False), (False, False), (False, False), (False, False), (False, False), (True, True), (False, False), (False, False), (False, False), (False, False), (False, False), (False, False), (False, False), (True, True), (False, False), (False, False)]\n"
     ]
    }
   ],
   "source": [
    "g = []\n",
    "h = []\n",
    "for i in range(100):\n",
    "    g.append(is_prime_fast(i))\n",
    "    h.append(is_prime(i))\n",
    "print(list(zip(h, g)))"
   ]
  },
  {
   "cell_type": "code",
   "execution_count": 32,
   "metadata": {},
   "outputs": [],
   "source": [
    "assert g==h"
   ]
  },
  {
   "cell_type": "markdown",
   "metadata": {},
   "source": [
    "Run the following cell to make sure it finds the same primes as the original function."
   ]
  },
  {
   "cell_type": "code",
   "execution_count": 31,
   "metadata": {},
   "outputs": [],
   "source": [
    "for n in range(10000):\n",
    "    assert is_prime(n) == is_prime_fast(n)"
   ]
  },
  {
   "cell_type": "markdown",
   "metadata": {},
   "source": [
    "Now lets check the timing, here we will use the `%%timeit` magic which will time the execution of a particular cell."
   ]
  },
  {
   "cell_type": "code",
   "execution_count": 34,
   "metadata": {},
   "outputs": [
    {
     "name": "stdout",
     "output_type": "stream",
     "text": [
      "4.93 s ± 65.9 ms per loop (mean ± std. dev. of 7 runs, 1 loop each)\n"
     ]
    }
   ],
   "source": [
    "%%timeit\n",
    "is_prime(67867967)"
   ]
  },
  {
   "cell_type": "code",
   "execution_count": 35,
   "metadata": {},
   "outputs": [
    {
     "name": "stdout",
     "output_type": "stream",
     "text": [
      "601 µs ± 17.9 µs per loop (mean ± std. dev. of 7 runs, 1000 loops each)\n"
     ]
    }
   ],
   "source": [
    "%%timeit\n",
    "is_prime_fast(67867967)"
   ]
  },
  {
   "cell_type": "markdown",
   "metadata": {},
   "source": [
    "Now return a function which will find all prime numbers up to and including $n$. Submit this function to the grader."
   ]
  },
  {
   "cell_type": "code",
   "execution_count": 33,
   "metadata": {},
   "outputs": [],
   "source": [
    "def get_primes_fast(n):\n",
    "    my_lizt = []\n",
    "    for i in range(n + 1):\n",
    "        if is_prime_fast(i):\n",
    "            my_lizt.append(i)\n",
    "    return my_lizt\n",
    "\n"
   ]
  },
  {
   "cell_type": "code",
   "execution_count": 37,
   "metadata": {},
   "outputs": [
    {
     "name": "stdout",
     "output_type": "stream",
     "text": [
      "==================\n",
      "Your score:  1.0\n",
      "==================\n"
     ]
    }
   ],
   "source": [
    "grader.score.ip__is_prime_fast(get_primes_fast)"
   ]
  },
  {
   "cell_type": "markdown",
   "metadata": {},
   "source": [
    "## Exercise 5: sieve\n",
    "\n",
    "In this problem we will develop an even faster method which is known as the Sieve of Eratosthenes (although it will be more expensive in terms of memory). The Sieve of Eratosthenes is an example of dynamic programming, where the general idea is to not redo computations we have already done (read more about it [here](https://en.wikipedia.org/wiki/Dynamic_programming)).  We will break this sieve down into several small functions. \n",
    "\n",
    "Our submission will be a list of all prime numbers less than 2000.\n",
    "\n",
    "The method works as follows (see [here](https://en.wikipedia.org/wiki/Sieve_of_Eratosthenes) for more details)\n",
    "\n",
    "1. Generate a list of all numbers between 0 and N; mark the numbers 0 and 1 to be not prime\n",
    "2. Starting with $p=2$ (the first prime) mark all numbers of the form $np$ where $n>1$ and $np <= N$ to be not prime (they can't be prime since they are multiples of 2!)\n",
    "3. Find the smallest number greater than $p$ which is not marked and set that equal to $p$, then go back to step 2.  Stop if there is no unmarked number greater than $p$ and less than $N+1$\n",
    "\n",
    "We will break this up into a few functions, our general strategy will be to use a Python `list` as our container although we could use other data structures.  The index of this list will represent numbers.\n",
    "\n",
    "We have implemented a `sieve` function which will find all the prime numbers up to $n$.  You will need to implement the functions which it calls.  They are as follows\n",
    "\n",
    "* `list_true` Make a list of true values of length $n+1$ where the first two values are false (this corresponds with step 1 of the algorithm above)\n",
    "* `mark_false` takes a list of booleans and a number $p$.  Mark all elements $2p,3p,...n$ false (this corresponds with step 2 of the algorithm above)\n",
    "* `find_next` Find the smallest `True` element in a list which is greater than some $p$ (has index greater than $p$ (this corresponds with step 3 of the algorithm above)\n",
    "* `prime_from_list` Return indices of True values\n",
    "\n",
    "Remember that python lists are zero indexed. We have provided assertions below to help you assess whether your functions are functioning properly."
   ]
  },
  {
   "cell_type": "code",
   "execution_count": 23,
   "metadata": {},
   "outputs": [
    {
     "data": {
      "text/plain": [
       "[False, False, True, True, True, True, True, True, True]"
      ]
     },
     "execution_count": 23,
     "metadata": {},
     "output_type": "execute_result"
    }
   ],
   "source": [
    "def list_true(n):\n",
    "    my_lizt = [False, False]\n",
    "    for i in range(n-1):\n",
    "        my_lizt.append(True)\n",
    "    return my_lizt\n",
    "list_true(8)"
   ]
  },
  {
   "cell_type": "code",
   "execution_count": 24,
   "metadata": {},
   "outputs": [],
   "source": [
    "assert len(list_true(20)) == 21\n",
    "assert list_true(20)[0] is False\n",
    "assert list_true(20)[1] is False"
   ]
  },
  {
   "cell_type": "markdown",
   "metadata": {},
   "source": [
    "Now we want to write a function which takes a list of elements and a number $p$ and marks elements false which are in the range $2p,3p ... N$."
   ]
  },
  {
   "cell_type": "code",
   "execution_count": 25,
   "metadata": {},
   "outputs": [],
   "source": [
    "'''def mark_false(bool_list, p):\n",
    "    for i in bool_list:\n",
    "        for j in range(len(bool_list)):\n",
    "            if bool_list[j] == i:\n",
    "                for n in range (2, len(bool_list)):\n",
    "                    if n * p <= len(bool_list) - 1:\n",
    "                        bool_list[n * p] = False\n",
    "    return bool_list''' \n",
    "\n",
    "\n",
    "def mark_false(bool_list, p):\n",
    "    new_list = [True for n in range(len(bool_list))]\n",
    "    new_list[0] = False\n",
    "    new_list[1] = False\n",
    "    n = 2\n",
    "    while n < len(bool_list):\n",
    "        if n * 2 > (len(bool_list) - 1):\n",
    "            break\n",
    "        for i in range(n * 2, len(bool_list), n):\n",
    "            new_list[i] = False\n",
    "        n += 1\n",
    "\n",
    "    return new_list"
   ]
  },
  {
   "cell_type": "code",
   "execution_count": 26,
   "metadata": {},
   "outputs": [],
   "source": [
    "assert mark_false(list_true(6), 2) == [False, False, True, True, False, True, False]"
   ]
  },
  {
   "cell_type": "markdown",
   "metadata": {},
   "source": [
    "Now lets write a `find_next` function which returns the smallest element in a list which is not false and is greater than $p$."
   ]
  },
  {
   "cell_type": "code",
   "execution_count": 27,
   "metadata": {},
   "outputs": [
    {
     "data": {
      "text/plain": [
       "'def prime_from_list(bool_list):\\n    l=[]\\n    for x in range(len(bool_list)):\\n        if bool_list[x]==True:\\n            l.append(x)\\n    return l'"
      ]
     },
     "execution_count": 27,
     "metadata": {},
     "output_type": "execute_result"
    }
   ],
   "source": [
    "'''def find_next(bool_list, p):\n",
    "    for element in bool_list:\n",
    "        for i in range(len(bool_list)):\n",
    "            if bool_list[i] == element:\n",
    "                if element == True and i > p:\n",
    "                    return i\n",
    "                    break\n",
    "'''\n",
    "\n",
    "def find_next(bool_list, p):\n",
    "    for x in range(len(bool_list)):\n",
    "        if x>p and bool_list[x]==True:\n",
    "            return x\n",
    "\n",
    "\n",
    "'''def prime_from_list(bool_list):\n",
    "    l=[]\n",
    "    for x in range(len(bool_list)):\n",
    "        if bool_list[x]==True:\n",
    "            l.append(x)\n",
    "    return l'''\n",
    "\n"
   ]
  },
  {
   "cell_type": "code",
   "execution_count": 28,
   "metadata": {},
   "outputs": [],
   "source": [
    "assert find_next([True, True, True, True], 2) == 3\n",
    "assert find_next([True, True, True, False], 2) is None"
   ]
  },
  {
   "cell_type": "markdown",
   "metadata": {},
   "source": [
    "Now given a list of `True` and `False`, return the index of the true values."
   ]
  },
  {
   "cell_type": "code",
   "execution_count": 29,
   "metadata": {},
   "outputs": [],
   "source": [
    "def prime_from_list(bool_list):\n",
    "    true_values = []\n",
    "    for index in range(len(bool_list)):\n",
    "        if bool_list[index] == True:\n",
    "            true_values.append(index)\n",
    "    return true_values\n",
    "\n"
   ]
  },
  {
   "cell_type": "code",
   "execution_count": 30,
   "metadata": {},
   "outputs": [],
   "source": [
    "assert prime_from_list([False, False, True, True, False]) ==  [2, 3]"
   ]
  },
  {
   "cell_type": "code",
   "execution_count": 31,
   "metadata": {},
   "outputs": [],
   "source": [
    "def sieve(n):\n",
    "    bool_list = list_true(n)\n",
    "    p = 2\n",
    "    while p is not None:\n",
    "        bool_list = mark_false(bool_list, p)\n",
    "        p = find_next(bool_list, p)\n",
    "    return prime_from_list(bool_list)"
   ]
  },
  {
   "cell_type": "code",
   "execution_count": null,
   "metadata": {},
   "outputs": [],
   "source": [
    "assert sieve(1000) == get_primes(0, 1000)"
   ]
  },
  {
   "cell_type": "code",
   "execution_count": null,
   "metadata": {},
   "outputs": [],
   "source": [
    "%%timeit \n",
    "sieve(1000)"
   ]
  },
  {
   "cell_type": "code",
   "execution_count": 35,
   "metadata": {},
   "outputs": [
    {
     "name": "stdout",
     "output_type": "stream",
     "text": [
      "4.89 ms ± 107 µs per loop (mean ± std. dev. of 7 runs, 100 loops each)\n"
     ]
    }
   ],
   "source": [
    "%%timeit \n",
    "get_primes(0, 1000)"
   ]
  },
  {
   "cell_type": "code",
   "execution_count": null,
   "metadata": {},
   "outputs": [],
   "source": [
    "grader.score.ip__eratosthenes(sieve)"
   ]
  },
  {
   "cell_type": "markdown",
   "metadata": {},
   "source": [
    "*Copyright &copy; 2019 The Data Incubator.  All rights reserved.*"
   ]
  }
 ],
 "metadata": {
  "kernelspec": {
   "display_name": "Python 3",
   "language": "python",
   "name": "python3"
  },
  "language_info": {
   "codemirror_mode": {
    "name": "ipython",
    "version": 3
   },
   "file_extension": ".py",
   "mimetype": "text/x-python",
   "name": "python",
   "nbconvert_exporter": "python",
   "pygments_lexer": "ipython3",
   "version": "3.7.3"
  },
  "nbclean": true
 },
 "nbformat": 4,
 "nbformat_minor": 1
}
