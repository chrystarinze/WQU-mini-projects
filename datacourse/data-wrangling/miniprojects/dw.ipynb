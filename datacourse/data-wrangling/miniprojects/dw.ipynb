{
 "cells": [
  {
   "cell_type": "code",
   "execution_count": 11,
   "metadata": {},
   "outputs": [],
   "source": [
    "%matplotlib inline\n",
    "import matplotlib\n",
    "import seaborn as sns\n",
    "sns.set()\n",
    "matplotlib.rcParams['figure.dpi'] = 144"
   ]
  },
  {
   "cell_type": "code",
   "execution_count": 12,
   "metadata": {},
   "outputs": [],
   "source": [
    "from static_grader import grader"
   ]
  },
  {
   "cell_type": "markdown",
   "metadata": {},
   "source": [
    "# DW Miniproject\n",
    "## Introduction\n",
    "\n",
    "The objective of this miniproject is to exercise your ability to wrangle tabular data set and aggregate large data sets into meaningful summary statistics. We'll work with the same medical data used in the `pw` miniproject but leverage the power of Pandas to more efficiently represent and act on our data."
   ]
  },
  {
   "cell_type": "markdown",
   "metadata": {},
   "source": [
    "## Downloading the data\n",
    "\n",
    "We first need to download the data we'll be using from Amazon S3:"
   ]
  },
  {
   "cell_type": "code",
   "execution_count": 3,
   "metadata": {},
   "outputs": [
    {
     "name": "stdout",
     "output_type": "stream",
     "text": [
      "--2019-11-25 00:02:30--  http://dataincubator-wqu.s3.amazonaws.com/dwdata/201701scripts_sample.csv.gz\n",
      "Resolving dataincubator-wqu.s3.amazonaws.com (dataincubator-wqu.s3.amazonaws.com)... 54.231.98.80\n",
      "Connecting to dataincubator-wqu.s3.amazonaws.com (dataincubator-wqu.s3.amazonaws.com)|54.231.98.80|:80... connected.\n",
      "HTTP request sent, awaiting response... 200 OK\n",
      "Length: 19011654 (18M) [text/csv]\n",
      "Saving to: ‘./dw-data/201701scripts_sample.csv.gz’\n",
      "\n",
      "201701scripts_sampl 100%[===================>]  18.13M  33.7MB/s    in 0.5s    \n",
      "\n",
      "2019-11-25 00:02:30 (33.7 MB/s) - ‘./dw-data/201701scripts_sample.csv.gz’ saved [19011654/19011654]\n",
      "\n",
      "--2019-11-25 00:02:30--  http://dataincubator-wqu.s3.amazonaws.com/dwdata/201606scripts_sample.csv.gz\n",
      "Resolving dataincubator-wqu.s3.amazonaws.com (dataincubator-wqu.s3.amazonaws.com)... 52.216.105.115\n",
      "Connecting to dataincubator-wqu.s3.amazonaws.com (dataincubator-wqu.s3.amazonaws.com)|52.216.105.115|:80... connected.\n",
      "HTTP request sent, awaiting response... 200 OK\n",
      "Length: 18768259 (18M) [text/csv]\n",
      "Saving to: ‘./dw-data/201606scripts_sample.csv.gz’\n",
      "\n",
      "201606scripts_sampl 100%[===================>]  17.90M  43.0MB/s    in 0.4s    \n",
      "\n",
      "2019-11-25 00:02:31 (43.0 MB/s) - ‘./dw-data/201606scripts_sample.csv.gz’ saved [18768259/18768259]\n",
      "\n",
      "--2019-11-25 00:02:31--  http://dataincubator-wqu.s3.amazonaws.com/dwdata/practices.csv.gz\n",
      "Resolving dataincubator-wqu.s3.amazonaws.com (dataincubator-wqu.s3.amazonaws.com)... 52.216.105.115\n",
      "Connecting to dataincubator-wqu.s3.amazonaws.com (dataincubator-wqu.s3.amazonaws.com)|52.216.105.115|:80... connected.\n",
      "HTTP request sent, awaiting response... 200 OK\n",
      "Length: 333225 (325K) [application/x-gzip]\n",
      "Saving to: ‘./dw-data/practices.csv.gz’\n",
      "\n",
      "practices.csv.gz    100%[===================>] 325.42K  --.-KB/s    in 0.005s  \n",
      "\n",
      "2019-11-25 00:02:31 (66.3 MB/s) - ‘./dw-data/practices.csv.gz’ saved [333225/333225]\n",
      "\n",
      "--2019-11-25 00:02:31--  http://dataincubator-wqu.s3.amazonaws.com/dwdata/chem.csv.gz\n",
      "Resolving dataincubator-wqu.s3.amazonaws.com (dataincubator-wqu.s3.amazonaws.com)... 52.216.105.115\n",
      "Connecting to dataincubator-wqu.s3.amazonaws.com (dataincubator-wqu.s3.amazonaws.com)|52.216.105.115|:80... connected.\n",
      "HTTP request sent, awaiting response... 200 OK\n",
      "Length: 31829 (31K) [application/x-gzip]\n",
      "Saving to: ‘./dw-data/chem.csv.gz’\n",
      "\n",
      "chem.csv.gz         100%[===================>]  31.08K  --.-KB/s    in 0s      \n",
      "\n",
      "2019-11-25 00:02:31 (80.4 MB/s) - ‘./dw-data/chem.csv.gz’ saved [31829/31829]\n",
      "\n"
     ]
    }
   ],
   "source": [
    "!mkdir dw-data\n",
    "!wget http://dataincubator-wqu.s3.amazonaws.com/dwdata/201701scripts_sample.csv.gz -nc -P ./dw-data/\n",
    "!wget http://dataincubator-wqu.s3.amazonaws.com/dwdata/201606scripts_sample.csv.gz -nc -P ./dw-data/\n",
    "!wget http://dataincubator-wqu.s3.amazonaws.com/dwdata/practices.csv.gz -nc -P ./dw-data/\n",
    "!wget http://dataincubator-wqu.s3.amazonaws.com/dwdata/chem.csv.gz -nc -P ./dw-data/"
   ]
  },
  {
   "cell_type": "markdown",
   "metadata": {},
   "source": [
    "## Loading the data\n",
    "\n",
    "Similar to the `PW` miniproject, the first step is to read in the data. The data files are stored as compressed CSV files. You can load the data into a Pandas DataFrame by making use of the `gzip` package to decompress the files and Panda's `read_csv` methods to parse the data into a DataFrame. You may want to check the Pandas documentation for parsing [CSV](http://pandas.pydata.org/pandas-docs/stable/generated/pandas.read_csv.html) files for reference.\n",
    "\n",
    "For a description of the data set please, refer to the [PW miniproject](./pw.ipynb). **Note that all questions make use of the 2017 data only, except for Question 5 which makes use of both the 2017 and 2016 data.**"
   ]
  },
  {
   "cell_type": "code",
   "execution_count": 3,
   "metadata": {},
   "outputs": [],
   "source": [
    "import pandas as pd\n",
    "import numpy as np\n",
    "import gzip"
   ]
  },
  {
   "cell_type": "code",
   "execution_count": 5,
   "metadata": {},
   "outputs": [
    {
     "data": {
      "text/html": [
       "<div>\n",
       "<style scoped>\n",
       "    .dataframe tbody tr th:only-of-type {\n",
       "        vertical-align: middle;\n",
       "    }\n",
       "\n",
       "    .dataframe tbody tr th {\n",
       "        vertical-align: top;\n",
       "    }\n",
       "\n",
       "    .dataframe thead th {\n",
       "        text-align: right;\n",
       "    }\n",
       "</style>\n",
       "<table border=\"1\" class=\"dataframe\">\n",
       "  <thead>\n",
       "    <tr style=\"text-align: right;\">\n",
       "      <th></th>\n",
       "      <th>practice</th>\n",
       "      <th>bnf_code</th>\n",
       "      <th>bnf_name</th>\n",
       "      <th>items</th>\n",
       "      <th>nic</th>\n",
       "      <th>act_cost</th>\n",
       "      <th>quantity</th>\n",
       "    </tr>\n",
       "  </thead>\n",
       "  <tbody>\n",
       "    <tr>\n",
       "      <th>0</th>\n",
       "      <td>N85639</td>\n",
       "      <td>0106020C0</td>\n",
       "      <td>Bisacodyl_Tab E/C 5mg</td>\n",
       "      <td>1</td>\n",
       "      <td>0.39</td>\n",
       "      <td>0.47</td>\n",
       "      <td>12</td>\n",
       "    </tr>\n",
       "    <tr>\n",
       "      <th>1</th>\n",
       "      <td>N85639</td>\n",
       "      <td>0106040M0</td>\n",
       "      <td>Movicol Plain_Paed Pdr Sach 6.9g</td>\n",
       "      <td>1</td>\n",
       "      <td>4.38</td>\n",
       "      <td>4.07</td>\n",
       "      <td>30</td>\n",
       "    </tr>\n",
       "    <tr>\n",
       "      <th>2</th>\n",
       "      <td>N85639</td>\n",
       "      <td>0301011R0</td>\n",
       "      <td>Salbutamol_Inha 100mcg (200 D) CFF</td>\n",
       "      <td>1</td>\n",
       "      <td>1.50</td>\n",
       "      <td>1.40</td>\n",
       "      <td>1</td>\n",
       "    </tr>\n",
       "    <tr>\n",
       "      <th>3</th>\n",
       "      <td>N85639</td>\n",
       "      <td>0304010G0</td>\n",
       "      <td>Chlorphenamine Mal_Oral Soln 2mg/5ml</td>\n",
       "      <td>1</td>\n",
       "      <td>2.62</td>\n",
       "      <td>2.44</td>\n",
       "      <td>150</td>\n",
       "    </tr>\n",
       "    <tr>\n",
       "      <th>4</th>\n",
       "      <td>N85639</td>\n",
       "      <td>0401020K0</td>\n",
       "      <td>Diazepam_Tab 2mg</td>\n",
       "      <td>1</td>\n",
       "      <td>0.16</td>\n",
       "      <td>0.26</td>\n",
       "      <td>6</td>\n",
       "    </tr>\n",
       "  </tbody>\n",
       "</table>\n",
       "</div>"
      ],
      "text/plain": [
       "  practice   bnf_code                              bnf_name  items   nic  \\\n",
       "0   N85639  0106020C0                 Bisacodyl_Tab E/C 5mg      1  0.39   \n",
       "1   N85639  0106040M0      Movicol Plain_Paed Pdr Sach 6.9g      1  4.38   \n",
       "2   N85639  0301011R0    Salbutamol_Inha 100mcg (200 D) CFF      1  1.50   \n",
       "3   N85639  0304010G0  Chlorphenamine Mal_Oral Soln 2mg/5ml      1  2.62   \n",
       "4   N85639  0401020K0                      Diazepam_Tab 2mg      1  0.16   \n",
       "\n",
       "   act_cost  quantity  \n",
       "0      0.47        12  \n",
       "1      4.07        30  \n",
       "2      1.40         1  \n",
       "3      2.44       150  \n",
       "4      0.26         6  "
      ]
     },
     "execution_count": 5,
     "metadata": {},
     "output_type": "execute_result"
    }
   ],
   "source": [
    "# load the 2017 data\n",
    "\n",
    "scripts = pd.read_csv('./dw-data/201701scripts_sample.csv.gz')\n",
    "    \n",
    "scripts.head()"
   ]
  },
  {
   "cell_type": "code",
   "execution_count": 20,
   "metadata": {},
   "outputs": [
    {
     "data": {
      "text/html": [
       "<div>\n",
       "<style scoped>\n",
       "    .dataframe tbody tr th:only-of-type {\n",
       "        vertical-align: middle;\n",
       "    }\n",
       "\n",
       "    .dataframe tbody tr th {\n",
       "        vertical-align: top;\n",
       "    }\n",
       "\n",
       "    .dataframe thead th {\n",
       "        text-align: right;\n",
       "    }\n",
       "</style>\n",
       "<table border=\"1\" class=\"dataframe\">\n",
       "  <thead>\n",
       "    <tr style=\"text-align: right;\">\n",
       "      <th></th>\n",
       "      <th>code</th>\n",
       "      <th>name</th>\n",
       "      <th>addr_1</th>\n",
       "      <th>addr_2</th>\n",
       "      <th>borough</th>\n",
       "      <th>village</th>\n",
       "      <th>post_code</th>\n",
       "    </tr>\n",
       "  </thead>\n",
       "  <tbody>\n",
       "    <tr>\n",
       "      <th>0</th>\n",
       "      <td>A81001</td>\n",
       "      <td>THE DENSHAM SURGERY</td>\n",
       "      <td>THE HEALTH CENTRE</td>\n",
       "      <td>LAWSON STREET</td>\n",
       "      <td>STOCKTON ON TEES</td>\n",
       "      <td>CLEVELAND</td>\n",
       "      <td>TS18 1HU</td>\n",
       "    </tr>\n",
       "    <tr>\n",
       "      <th>1</th>\n",
       "      <td>A81002</td>\n",
       "      <td>QUEENS PARK MEDICAL CENTRE</td>\n",
       "      <td>QUEENS PARK MEDICAL CTR</td>\n",
       "      <td>FARRER STREET</td>\n",
       "      <td>STOCKTON ON TEES</td>\n",
       "      <td>CLEVELAND</td>\n",
       "      <td>TS18 2AW</td>\n",
       "    </tr>\n",
       "    <tr>\n",
       "      <th>2</th>\n",
       "      <td>A81003</td>\n",
       "      <td>VICTORIA MEDICAL PRACTICE</td>\n",
       "      <td>THE HEALTH CENTRE</td>\n",
       "      <td>VICTORIA ROAD</td>\n",
       "      <td>HARTLEPOOL</td>\n",
       "      <td>CLEVELAND</td>\n",
       "      <td>TS26 8DB</td>\n",
       "    </tr>\n",
       "    <tr>\n",
       "      <th>3</th>\n",
       "      <td>A81004</td>\n",
       "      <td>WOODLANDS ROAD SURGERY</td>\n",
       "      <td>6 WOODLANDS ROAD</td>\n",
       "      <td>NaN</td>\n",
       "      <td>MIDDLESBROUGH</td>\n",
       "      <td>CLEVELAND</td>\n",
       "      <td>TS1 3BE</td>\n",
       "    </tr>\n",
       "    <tr>\n",
       "      <th>4</th>\n",
       "      <td>A81005</td>\n",
       "      <td>SPRINGWOOD SURGERY</td>\n",
       "      <td>SPRINGWOOD SURGERY</td>\n",
       "      <td>RECTORY LANE</td>\n",
       "      <td>GUISBOROUGH</td>\n",
       "      <td>NaN</td>\n",
       "      <td>TS14 7DJ</td>\n",
       "    </tr>\n",
       "  </tbody>\n",
       "</table>\n",
       "</div>"
      ],
      "text/plain": [
       "     code                        name                   addr_1         addr_2  \\\n",
       "0  A81001         THE DENSHAM SURGERY        THE HEALTH CENTRE  LAWSON STREET   \n",
       "1  A81002  QUEENS PARK MEDICAL CENTRE  QUEENS PARK MEDICAL CTR  FARRER STREET   \n",
       "2  A81003   VICTORIA MEDICAL PRACTICE        THE HEALTH CENTRE  VICTORIA ROAD   \n",
       "3  A81004      WOODLANDS ROAD SURGERY         6 WOODLANDS ROAD            NaN   \n",
       "4  A81005          SPRINGWOOD SURGERY       SPRINGWOOD SURGERY   RECTORY LANE   \n",
       "\n",
       "            borough    village post_code  \n",
       "0  STOCKTON ON TEES  CLEVELAND  TS18 1HU  \n",
       "1  STOCKTON ON TEES  CLEVELAND  TS18 2AW  \n",
       "2        HARTLEPOOL  CLEVELAND  TS26 8DB  \n",
       "3     MIDDLESBROUGH  CLEVELAND   TS1 3BE  \n",
       "4       GUISBOROUGH        NaN  TS14 7DJ  "
      ]
     },
     "execution_count": 20,
     "metadata": {},
     "output_type": "execute_result"
    }
   ],
   "source": [
    "col_names=[ 'code', 'name', 'addr_1', 'addr_2', 'borough', 'village', 'post_code']\n",
    "practices = pd.read_csv('./dw-data/practices.csv.gz', names=col_names)\n",
    "practices.head()"
   ]
  },
  {
   "cell_type": "code",
   "execution_count": 6,
   "metadata": {},
   "outputs": [
    {
     "data": {
      "text/html": [
       "<div>\n",
       "<style scoped>\n",
       "    .dataframe tbody tr th:only-of-type {\n",
       "        vertical-align: middle;\n",
       "    }\n",
       "\n",
       "    .dataframe tbody tr th {\n",
       "        vertical-align: top;\n",
       "    }\n",
       "\n",
       "    .dataframe thead th {\n",
       "        text-align: right;\n",
       "    }\n",
       "</style>\n",
       "<table border=\"1\" class=\"dataframe\">\n",
       "  <thead>\n",
       "    <tr style=\"text-align: right;\">\n",
       "      <th></th>\n",
       "      <th>CHEM SUB</th>\n",
       "      <th>NAME</th>\n",
       "    </tr>\n",
       "  </thead>\n",
       "  <tbody>\n",
       "    <tr>\n",
       "      <th>0</th>\n",
       "      <td>0101010A0</td>\n",
       "      <td>Alexitol Sodium</td>\n",
       "    </tr>\n",
       "    <tr>\n",
       "      <th>1</th>\n",
       "      <td>0101010B0</td>\n",
       "      <td>Almasilate</td>\n",
       "    </tr>\n",
       "    <tr>\n",
       "      <th>2</th>\n",
       "      <td>0101010C0</td>\n",
       "      <td>Aluminium Hydroxide</td>\n",
       "    </tr>\n",
       "    <tr>\n",
       "      <th>3</th>\n",
       "      <td>0101010D0</td>\n",
       "      <td>Aluminium Hydroxide With Magnesium</td>\n",
       "    </tr>\n",
       "    <tr>\n",
       "      <th>4</th>\n",
       "      <td>0101010E0</td>\n",
       "      <td>Hydrotalcite</td>\n",
       "    </tr>\n",
       "  </tbody>\n",
       "</table>\n",
       "</div>"
      ],
      "text/plain": [
       "    CHEM SUB                                NAME\n",
       "0  0101010A0                     Alexitol Sodium\n",
       "1  0101010B0                          Almasilate\n",
       "2  0101010C0                 Aluminium Hydroxide\n",
       "3  0101010D0  Aluminium Hydroxide With Magnesium\n",
       "4  0101010E0                        Hydrotalcite"
      ]
     },
     "execution_count": 6,
     "metadata": {},
     "output_type": "execute_result"
    }
   ],
   "source": [
    "chem = pd.read_csv('./dw-data/chem.csv.gz')\n",
    "chem.head()"
   ]
  },
  {
   "cell_type": "markdown",
   "metadata": {},
   "source": [
    "Now that we've loaded in the data, let's first replicate our results from the `PW` miniproject. Note that we are now working with a larger data set so the answers will be different than in the `PW` miniproject even if the analysis is the same."
   ]
  },
  {
   "cell_type": "markdown",
   "metadata": {},
   "source": [
    "## Question 1: summary_statistics\n",
    "\n",
    "In the `PW` miniproject we first calculated the total, mean, standard deviation, and quartile statistics of the `'items'`, `'quantity'`', `'nic'`, and `'act_cost'` fields. To do this we had to write some functions to calculate the statistics and apply the functions to our data structure. The DataFrame has a `describe` method that will calculate most (not all) of these things for us.\n",
    "\n",
    "Submit the summary statistics to the grader as a list of tuples: [('act_cost', (total, mean, std, q25, median, q75)), ...]"
   ]
  },
  {
   "cell_type": "code",
   "execution_count": null,
   "metadata": {},
   "outputs": [],
   "source": [
    "scripts_df = pd.DataFrame(scripts)\n",
    "summary = scripts_df.describe().transpose()\n",
    "summary['total'] = summary.apply(lambda row: (row['count'] * row['mean']), axis = 1)\n",
    "summary = [list(record) for record in summary[['total','mean','std','25%','50%','75%']].to_records()]\n",
    "summary_stats = [(record[0], tuple(record[1:])) for record in summary]"
   ]
  },
  {
   "cell_type": "code",
   "execution_count": 9,
   "metadata": {},
   "outputs": [],
   "source": [
    "def describe(key):\n",
    "    desc = scripts[key].describe()\n",
    "    total = desc['count'] * desc['mean']\n",
    "\n",
    "    return (total, desc['mean'], desc['std'], desc['25%'], desc['50%'], desc['75%'])\n",
    "\n",
    "summary_stats = [('items', describe('items')),\n",
    "                 ('quantity', describe('quantity')), \n",
    "                 ('nic', describe('nic')),\n",
    "                 ('act_cost', describe('act_cost'))]"
   ]
  },
  {
   "cell_type": "code",
   "execution_count": null,
   "metadata": {},
   "outputs": [],
   "source": [
    "summary_stats = [('items', (0,) * 6), ('quantity', (0,) * 6), ('nic', (0,) * 6), ('act_cost', (0,) * 6)]"
   ]
  },
  {
   "cell_type": "code",
   "execution_count": 13,
   "metadata": {},
   "outputs": [
    {
     "name": "stdout",
     "output_type": "stream",
     "text": [
      "==================\n",
      "Your score:  1.0\n",
      "==================\n"
     ]
    }
   ],
   "source": [
    "grader.score.dw__summary_statistics(summary_stats)"
   ]
  },
  {
   "cell_type": "markdown",
   "metadata": {},
   "source": [
    "## Question 2: most_common_item\n",
    "\n",
    "We can also easily compute summary statistics on groups within the data. In the `pw` miniproject we had to explicitly construct the groups based on the values of a particular field. Pandas will handle that for us via the `groupby` method. This process is [detailed in the Pandas documentation](https://pandas.pydata.org/pandas-docs/stable/groupby.html).\n",
    "\n",
    "Use `groupby` to calculate the total number of items dispensed for each `'bnf_name'`. Find the item with the highest total and return the result as `[(bnf_name, total)]`."
   ]
  },
  {
   "cell_type": "code",
   "execution_count": 17,
   "metadata": {},
   "outputs": [
    {
     "name": "stdout",
     "output_type": "stream",
     "text": [
      "bnf_name\n",
      "365 Film 10cm x 12cm VP Adh Film Dress      2\n",
      "365 Non Adherent 10cm x 10cm Pfa Plas Fa    3\n",
      "365 Non Adherent 10cm x 20cm Pfa Plas Fa    1\n",
      "365 Non Woven Island 8cm x 10cm Adh Dres    1\n",
      "365 Transpt Island 5cm x 7.2cm VP Adh Fi    2\n",
      "Name: items, dtype: int64\n"
     ]
    }
   ],
   "source": [
    "scripts['freq'] = scripts.groupby('bnf_name')['items'].transform('sum') \n",
    "scripts_freq=scripts.sort_values(by='freq', ascending=False).head(1).reset_index()\n",
    "\n",
    "common_item = scripts_freq.loc[0].iat[3], scripts_freq.loc[0].iat[8]\n",
    "\n",
    "most_common_item = [common_item]\n",
    "\n",
    "#Another man's attempt\n",
    "\n",
    "group_items = scripts.groupby('bnf_name')['items'].sum() \n",
    "print(group_items.head()) # For your reference related to scripts after grouped most_common_item = [(group_items.idxmax(), group_items.max())]\n",
    "\n",
    "#Yet another attempt\n",
    "\n",
    "groupbnf=scripts.groupby('bnf_name')['items'].sum()\n",
    "groupbnf.tail()\n",
    "groupbnf.max()\n",
    "groupbnf.idxmax()\n",
    "most_common_item = [(groupbnf.idxmax(), groupbnf[groupbnf.idxmax()])]\n",
    "most_common_item"
   ]
  },
  {
   "cell_type": "code",
   "execution_count": 14,
   "metadata": {},
   "outputs": [],
   "source": [
    "grpd_df = scripts.groupby('bnf_name')['items'].sum()\n",
    "\n",
    "max_n = grpd_df.max()\n",
    "\n",
    "most_common_item = [(grpd_df.index[ grpd_df == max_n][0], max_n)]\n"
   ]
  },
  {
   "cell_type": "code",
   "execution_count": null,
   "metadata": {},
   "outputs": [],
   "source": [
    "most_common_item = [(\"\", 0)]"
   ]
  },
  {
   "cell_type": "code",
   "execution_count": 15,
   "metadata": {},
   "outputs": [
    {
     "name": "stdout",
     "output_type": "stream",
     "text": [
      "==================\n",
      "Your score:  1.0\n",
      "==================\n"
     ]
    }
   ],
   "source": [
    "grader.score.dw__most_common_item(most_common_item)"
   ]
  },
  {
   "cell_type": "markdown",
   "metadata": {},
   "source": [
    "## Question 3: items_by_region\n",
    "\n",
    "Now let's find the most common item by post code. The post code information is in the `practices` DataFrame, and we'll need to `merge` it into the `scripts` DataFrame. Pandas provides [extensive documentation](https://pandas.pydata.org/pandas-docs/stable/merging.html) with diagrammed examples on different methods and approaches for joining data. The `merge` method is only one of many possible options.\n",
    "\n",
    "Return your results as a list of tuples `(post code, item name, amount dispensed as % of total)`. Sort your results ascending alphabetically by post code and take only results from the first 100 post codes.\n",
    "\n",
    "**NOTE:** Some practices have multiple postal codes associated with them. Use the alphabetically first postal code. Note some postal codes may have multiple `'bnf_name'` with the same prescription rate for the maximum. In this case, take the alphabetically first `'bnf_name'` (as in the PW miniproject)."
   ]
  },
  {
   "cell_type": "code",
   "execution_count": 24,
   "metadata": {},
   "outputs": [],
   "source": [
    "unique_practices = (practices.sort_values(by=['code', 'post_code']).\n",
    "                drop_duplicates(['code']).reset_index()[['code','post_code']])\n",
    "\n",
    "\n",
    "joined = scripts.merge(unique_practices, left_on ='practice', right_on='code')\n",
    "\n",
    "#Total items for each bnf_name in each post_code\n",
    "post_item_totals = (joined.groupby(['post_code','bnf_name'])['items'].\n",
    "                    sum().reset_index().sort_values(['post_code','items'], ascending = False))\n",
    "\n",
    "max_items = post_item_totals.groupby('post_code').first()\n",
    "\n",
    "post_code_totals = post_item_totals.groupby('post_code')['items'].sum()"
   ]
  },
  {
   "cell_type": "code",
   "execution_count": 25,
   "metadata": {},
   "outputs": [],
   "source": [
    "max_items['post_totals'] = post_code_totals\n",
    "\n",
    "max_items['proportion'] = max_items['items']/max_items['post_totals']\n",
    "\n",
    "max_items.reset_index(inplace=True)\n",
    "\n",
    "final = max_items[['post_code', 'bnf_name', 'proportion']].head(100)"
   ]
  },
  {
   "cell_type": "code",
   "execution_count": 26,
   "metadata": {},
   "outputs": [
    {
     "data": {
      "text/plain": [
       "[Pandas(post_code='B11 4BW', bnf_name='Salbutamol_Inha 100mcg (200 D) CFF', proportion=0.031058906339360346),\n",
       " Pandas(post_code='B12 9LP', bnf_name='Paracet_Tab 500mg', proportion=0.02489310607391788),\n",
       " Pandas(post_code='B18 7AL', bnf_name='Salbutamol_Inha 100mcg (200 D) CFF', proportion=0.027111371172225472),\n",
       " Pandas(post_code='B21 9RY', bnf_name='Metformin HCl_Tab 500mg', proportion=0.03329358300834757),\n",
       " Pandas(post_code='B23 6DJ', bnf_name='Lansoprazole_Cap 30mg (E/C Gran)', proportion=0.021384456106529576),\n",
       " Pandas(post_code='B61 0AZ', bnf_name='Omeprazole_Cap E/C 20mg', proportion=0.028713318284424378),\n",
       " Pandas(post_code='B70 7AW', bnf_name='Paracet_Tab 500mg', proportion=0.025135992162726547),\n",
       " Pandas(post_code='B72 1RL', bnf_name='Omeprazole_Cap E/C 20mg', proportion=0.020228765092141495),\n",
       " Pandas(post_code='B8 1RZ', bnf_name='Metformin HCl_Tab 500mg', proportion=0.021347750961484866),\n",
       " Pandas(post_code='B9 5PU', bnf_name='Ventolin_Evohaler 100mcg (200 D)', proportion=0.024826024522257815),\n",
       " Pandas(post_code='B90 3LX', bnf_name='Omeprazole_Cap E/C 20mg', proportion=0.026965103983080718),\n",
       " Pandas(post_code='BA5 1XJ', bnf_name='Omeprazole_Cap E/C 20mg', proportion=0.028261290947858113),\n",
       " Pandas(post_code='BB11 2DL', bnf_name='Omeprazole_Cap E/C 20mg', proportion=0.027381741821396993),\n",
       " Pandas(post_code='BB2 1AX', bnf_name='Omeprazole_Cap E/C 20mg', proportion=0.03428191046763188),\n",
       " Pandas(post_code='BB3 1PY', bnf_name='Omeprazole_Cap E/C 20mg', proportion=0.032683395995453356),\n",
       " Pandas(post_code='BB4 5SL', bnf_name='Omeprazole_Cap E/C 20mg', proportion=0.03747689029549087),\n",
       " Pandas(post_code='BB4 7PL', bnf_name='Omeprazole_Cap E/C 20mg', proportion=0.027477496877557173),\n",
       " Pandas(post_code='BB7 2JG', bnf_name='Omeprazole_Cap E/C 20mg', proportion=0.027980664806967485),\n",
       " Pandas(post_code='BB8 0JZ', bnf_name='Atorvastatin_Tab 20mg', proportion=0.021515746650768042),\n",
       " Pandas(post_code='BB9 7SR', bnf_name='Omeprazole_Cap E/C 20mg', proportion=0.02247662283190644),\n",
       " Pandas(post_code='BD16 4RP', bnf_name='Lansoprazole_Cap 30mg (E/C Gran)', proportion=0.022780283004198414),\n",
       " Pandas(post_code='BD19 5AP', bnf_name='Lansoprazole_Cap 30mg (E/C Gran)', proportion=0.02066220372715759),\n",
       " Pandas(post_code='BD3 8QH', bnf_name='Atorvastatin_Tab 40mg', proportion=0.031662850096882154),\n",
       " Pandas(post_code='BD4 7SS', bnf_name='Atorvastatin_Tab 40mg', proportion=0.03424183501960914),\n",
       " Pandas(post_code='BH14 0DJ', bnf_name='Omeprazole_Cap E/C 20mg', proportion=0.02838931332218254),\n",
       " Pandas(post_code='BH18 8EE', bnf_name='Omeprazole_Cap E/C 20mg', proportion=0.027092370049064923),\n",
       " Pandas(post_code='BH23 3AF', bnf_name='Omeprazole_Cap E/C 20mg', proportion=0.03546099290780142),\n",
       " Pandas(post_code='BL1 3RG', bnf_name='Omeprazole_Cap E/C 20mg', proportion=0.03362566656383588),\n",
       " Pandas(post_code='BL1 8TU', bnf_name='Omeprazole_Cap E/C 20mg', proportion=0.027729220222793487),\n",
       " Pandas(post_code='BL2 6NT', bnf_name='Omeprazole_Cap E/C 20mg', proportion=0.0271567320510379),\n",
       " Pandas(post_code='BL3 5HP', bnf_name='Omeprazole_Cap E/C 20mg', proportion=0.03129933420275929),\n",
       " Pandas(post_code='BL9 0NJ', bnf_name='Omeprazole_Cap E/C 20mg', proportion=0.032037565382786494),\n",
       " Pandas(post_code='BL9 0SN', bnf_name='Omeprazole_Cap E/C 20mg', proportion=0.03090454288711369),\n",
       " Pandas(post_code='BN1 6AG', bnf_name='Lansoprazole_Cap 15mg (E/C Gran)', proportion=0.021755523716160168),\n",
       " Pandas(post_code='BN1 8DD', bnf_name='Aspirin Disper_Tab 75mg', proportion=0.021517850460294887),\n",
       " Pandas(post_code='BN9 9PW', bnf_name='Omeprazole_Cap E/C 20mg', proportion=0.01855317763853853),\n",
       " Pandas(post_code='BR2 9GT', bnf_name='Influenza_Vac Inact 0.5ml Pfs', proportion=0.04301700334253742),\n",
       " Pandas(post_code='BR3 3FD', bnf_name='Omeprazole_Cap E/C 20mg', proportion=0.02865911645197545),\n",
       " Pandas(post_code='BS16 3TD', bnf_name='Omeprazole_Cap E/C 20mg', proportion=0.03752737892431249),\n",
       " Pandas(post_code='BS23 3HQ', bnf_name='Omeprazole_Cap E/C 20mg', proportion=0.030246216399367518),\n",
       " Pandas(post_code='BS4 1WH', bnf_name='Omeprazole_Cap E/C 20mg', proportion=0.029600778967867575),\n",
       " Pandas(post_code='BS4 4HU', bnf_name='Omeprazole_Cap E/C 20mg', proportion=0.037361354349095155),\n",
       " Pandas(post_code='BS48 2XX', bnf_name='Omeprazole_Cap E/C 20mg', proportion=0.030207346595095254),\n",
       " Pandas(post_code='CA11 8HW', bnf_name='Omeprazole_Cap E/C 20mg', proportion=0.027868623340321454),\n",
       " Pandas(post_code='CB22 3HU', bnf_name='Omeprazole_Cap E/C 20mg', proportion=0.038775726713346066),\n",
       " Pandas(post_code='CB9 8HF', bnf_name='Omeprazole_Cap E/C 20mg', proportion=0.03391110538046382),\n",
       " Pandas(post_code='CH1 4DS', bnf_name='Lansoprazole_Cap 30mg (E/C Gran)', proportion=0.0257736189772634),\n",
       " Pandas(post_code='CH41 8DB', bnf_name='Omeprazole_Cap E/C 20mg', proportion=0.03327732469980738),\n",
       " Pandas(post_code='CH44 5UF', bnf_name='Omeprazole_Cap E/C 20mg', proportion=0.03327334826839032),\n",
       " Pandas(post_code='CH62 5HS', bnf_name='Omeprazole_Cap E/C 20mg', proportion=0.037778835690968446),\n",
       " Pandas(post_code='CH62 6EE', bnf_name='Influenza_Vac Inact 0.5ml Pfs', proportion=0.057585894269547),\n",
       " Pandas(post_code='CH65 6TG', bnf_name='Lansoprazole_Cap 30mg (E/C Gran)', proportion=0.026067517902474142),\n",
       " Pandas(post_code='CH66 3PB', bnf_name='Lansoprazole_Cap 30mg (E/C Gran)', proportion=0.03100619319552803),\n",
       " Pandas(post_code='CM18 6LY', bnf_name='Omeprazole_Cap E/C 20mg', proportion=0.026445315758738635),\n",
       " Pandas(post_code='CR0 0JA', bnf_name='Salbutamol_Inha 100mcg (200 D) CFF', proportion=0.021571724750715768),\n",
       " Pandas(post_code='CT11 8AD', bnf_name='Omeprazole_Cap E/C 20mg', proportion=0.022307039864291774),\n",
       " Pandas(post_code='CV1 4FS', bnf_name='Omeprazole_Cap E/C 20mg', proportion=0.028455180531743392),\n",
       " Pandas(post_code='CV12 8NQ', bnf_name='Omeprazole_Cap E/C 20mg', proportion=0.026444799282852902),\n",
       " Pandas(post_code='CV21 2DN', bnf_name='Omeprazole_Cap E/C 20mg', proportion=0.04102890311294875),\n",
       " Pandas(post_code='CV6 2FL', bnf_name='Omeprazole_Cap E/C 20mg', proportion=0.036250663502669624),\n",
       " Pandas(post_code='CV6 6DR', bnf_name='Omeprazole_Cap E/C 20mg', proportion=0.030544721504009817),\n",
       " Pandas(post_code='CW1 3AW', bnf_name='Omeprazole_Cap E/C 20mg', proportion=0.03558258199497268),\n",
       " Pandas(post_code='CW5 5NX', bnf_name='Omeprazole_Cap E/C 20mg', proportion=0.03453647138997736),\n",
       " Pandas(post_code='CW7 1AT', bnf_name='Omeprazole_Cap E/C 20mg', proportion=0.03666371289322109),\n",
       " Pandas(post_code='DA1 2HA', bnf_name='Omeprazole_Cap E/C 20mg', proportion=0.019244977658938185),\n",
       " Pandas(post_code='DA11 8BZ', bnf_name='Amoxicillin_Cap 500mg', proportion=0.019686834904226208),\n",
       " Pandas(post_code='DN16 2AB', bnf_name='Amlodipine_Tab 5mg', proportion=0.019925280199252802),\n",
       " Pandas(post_code='DN22 7XF', bnf_name='Simvastatin_Tab 40mg', proportion=0.018624361621210474),\n",
       " Pandas(post_code='DN31 3AE', bnf_name='Omeprazole_Cap E/C 20mg', proportion=0.03432952436761402),\n",
       " Pandas(post_code='DN34 4GB', bnf_name='Omeprazole_Cap E/C 20mg', proportion=0.03709507845509909),\n",
       " Pandas(post_code='DN6 0HZ', bnf_name='Paracet_Tab 500mg', proportion=0.025764099668243102),\n",
       " Pandas(post_code='DN8 4BQ', bnf_name='Lansoprazole_Cap 30mg (E/C Gran)', proportion=0.021703061442945835),\n",
       " Pandas(post_code='DY11 6SF', bnf_name='Omeprazole_Cap E/C 20mg', proportion=0.021081859317153433),\n",
       " Pandas(post_code='E15 4ES', bnf_name='Amlodipine_Tab 10mg', proportion=0.02569068641412703),\n",
       " Pandas(post_code='E7 0EP', bnf_name='Metformin HCl_Tab 500mg', proportion=0.037244933982913224),\n",
       " Pandas(post_code='FY2 0JG', bnf_name='Omeprazole_Cap E/C 20mg', proportion=0.03627638093657511),\n",
       " Pandas(post_code='FY4 1TJ', bnf_name='Omeprazole_Cap E/C 20mg', proportion=0.04334478808705613),\n",
       " Pandas(post_code='FY5 2TZ', bnf_name='Omeprazole_Cap E/C 20mg', proportion=0.03540407051009112),\n",
       " Pandas(post_code='FY5 3LF', bnf_name='Omeprazole_Cap E/C 20mg', proportion=0.035122866094073016),\n",
       " Pandas(post_code='FY7 8GU', bnf_name='Omeprazole_Cap E/C 20mg', proportion=0.032058079778122195),\n",
       " Pandas(post_code='FY8 5DZ', bnf_name='Omeprazole_Cap E/C 20mg', proportion=0.02969960416717259),\n",
       " Pandas(post_code='GL1 3PX', bnf_name='Omeprazole_Cap E/C 20mg', proportion=0.025687801991914012),\n",
       " Pandas(post_code='GL20 5GJ', bnf_name='Omeprazole_Cap E/C 20mg', proportion=0.02412690753362688),\n",
       " Pandas(post_code='GL50 4DP', bnf_name='Omeprazole_Cap E/C 20mg', proportion=0.024009042366605605),\n",
       " Pandas(post_code='GU9 9QS', bnf_name='Omeprazole_Cap E/C 20mg', proportion=0.027052485943893322),\n",
       " Pandas(post_code='HA0 4UZ', bnf_name='Metformin HCl_Tab 500mg', proportion=0.027855843941147297),\n",
       " Pandas(post_code='HA3 7LT', bnf_name='Omeprazole_Cap E/C 20mg', proportion=0.02504635488712953),\n",
       " Pandas(post_code='HD6 1AT', bnf_name='Lansoprazole_Cap 30mg (E/C Gran)', proportion=0.021017471736896196),\n",
       " Pandas(post_code='HG1 5AR', bnf_name='Omeprazole_Cap E/C 20mg', proportion=0.02842489568845619),\n",
       " Pandas(post_code='HR1 2JB', bnf_name='Omeprazole_Cap E/C 20mg', proportion=0.028529603122966818),\n",
       " Pandas(post_code='HR6 8HD', bnf_name='Omeprazole_Cap E/C 20mg', proportion=0.027207967812149594),\n",
       " Pandas(post_code='HU7 4DW', bnf_name='Salbutamol_Inha 100mcg (200 D) CFF', proportion=0.025607843137254904),\n",
       " Pandas(post_code='HU9 2LJ', bnf_name='Lansoprazole_Cap 30mg (E/C Gran)', proportion=0.0243192109011288),\n",
       " Pandas(post_code='IG7 4DF', bnf_name='Amlodipine_Tab 5mg', proportion=0.01956475808155504),\n",
       " Pandas(post_code='IP22 4WG', bnf_name='Omeprazole_Cap E/C 20mg', proportion=0.02851095218241878),\n",
       " Pandas(post_code='KT12 3LB', bnf_name='Omeprazole_Cap E/C 20mg', proportion=0.01828471919895516),\n",
       " Pandas(post_code='KT14 6DH', bnf_name='Amlodipine_Tab 5mg', proportion=0.018667887710894296),\n",
       " Pandas(post_code='KT16 8HZ', bnf_name='Amlodipine_Tab 5mg', proportion=0.019319714781268066),\n",
       " Pandas(post_code='KT6 6EZ', bnf_name='Omeprazole_Cap E/C 20mg', proportion=0.02821316614420063),\n",
       " Pandas(post_code='L31 0DJ', bnf_name='Omeprazole_Cap E/C 20mg', proportion=0.029425653739448675)]"
      ]
     },
     "execution_count": 26,
     "metadata": {},
     "output_type": "execute_result"
    }
   ],
   "source": [
    "items_by_region = list(final.itertuples(index=False))\n",
    "items_by_region"
   ]
  },
  {
   "cell_type": "code",
   "execution_count": null,
   "metadata": {},
   "outputs": [],
   "source": [
    "#0r alternatively... although the previous function will automatically insert names\n",
    "\n",
    "items_by_region = list(final.itertuples(index=False, name=None))"
   ]
  },
  {
   "cell_type": "code",
   "execution_count": null,
   "metadata": {},
   "outputs": [],
   "source": [
    "items_by_region = [(\"B11 4BW\", \"Salbutamol_Inha 100mcg (200 D) CFF\", 0.0310589063)] * 100"
   ]
  },
  {
   "cell_type": "code",
   "execution_count": 27,
   "metadata": {},
   "outputs": [
    {
     "name": "stdout",
     "output_type": "stream",
     "text": [
      "==================\n",
      "Your score:  1.0\n",
      "==================\n"
     ]
    }
   ],
   "source": [
    "grader.score.dw__items_by_region(items_by_region)"
   ]
  },
  {
   "cell_type": "markdown",
   "metadata": {},
   "source": [
    "## Question 4: script_anomalies\n",
    "\n",
    "Drug abuse is a source of human and monetary costs in health care. A first step in identifying practitioners that enable drug abuse is to look for practices where commonly abused drugs are prescribed unusually often. Let's try to find practices that prescribe an unusually high amount of opioids. The opioids we'll look for are given in the list below."
   ]
  },
  {
   "cell_type": "code",
   "execution_count": 28,
   "metadata": {},
   "outputs": [
    {
     "ename": "NameError",
     "evalue": "name 'chem_sub' is not defined",
     "output_type": "error",
     "traceback": [
      "\u001b[0;31m---------------------------------------------------------------------------\u001b[0m",
      "\u001b[0;31mNameError\u001b[0m                                 Traceback (most recent call last)",
      "\u001b[0;32m<ipython-input-28-108177a55ac2>\u001b[0m in \u001b[0;36m<module>\u001b[0;34m()\u001b[0m\n\u001b[1;32m     12\u001b[0m \u001b[0mscripts\u001b[0m\u001b[0;34m.\u001b[0m\u001b[0mhead\u001b[0m\u001b[0;34m(\u001b[0m\u001b[0;34m)\u001b[0m\u001b[0;34m\u001b[0m\u001b[0;34m\u001b[0m\u001b[0m\n\u001b[1;32m     13\u001b[0m \u001b[0;34m\u001b[0m\u001b[0m\n\u001b[0;32m---> 14\u001b[0;31m \u001b[0mscripts\u001b[0m\u001b[0;34m[\u001b[0m\u001b[0;34m'opioid'\u001b[0m\u001b[0;34m]\u001b[0m \u001b[0;34m=\u001b[0m \u001b[0mscripts\u001b[0m \u001b[0;34m[\u001b[0m \u001b[0;34m'bnf_code'\u001b[0m \u001b[0;34m]\u001b[0m\u001b[0;34m.\u001b[0m\u001b[0mapply\u001b[0m\u001b[0;34m(\u001b[0m\u001b[0;32mlambda\u001b[0m \u001b[0mx\u001b[0m\u001b[0;34m:\u001b[0m \u001b[0;36m1\u001b[0m \u001b[0;32mif\u001b[0m \u001b[0mx\u001b[0m \u001b[0;32min\u001b[0m \u001b[0mchem_sub\u001b[0m \u001b[0;32melse\u001b[0m \u001b[0;36m0\u001b[0m\u001b[0;34m)\u001b[0m\u001b[0;34m\u001b[0m\u001b[0;34m\u001b[0m\u001b[0m\n\u001b[0m\u001b[1;32m     15\u001b[0m \u001b[0mstd_devn\u001b[0m \u001b[0;34m=\u001b[0m \u001b[0mscripts\u001b[0m\u001b[0;34m.\u001b[0m\u001b[0mopioid\u001b[0m\u001b[0;34m.\u001b[0m\u001b[0mstd\u001b[0m \u001b[0;34m(\u001b[0m\u001b[0;34m)\u001b[0m\u001b[0;34m\u001b[0m\u001b[0;34m\u001b[0m\u001b[0m\n\u001b[1;32m     16\u001b[0m \u001b[0moverall_rate\u001b[0m \u001b[0;34m=\u001b[0m \u001b[0mscripts\u001b[0m\u001b[0;34m.\u001b[0m\u001b[0mopioid\u001b[0m\u001b[0;34m.\u001b[0m\u001b[0mmean\u001b[0m\u001b[0;34m(\u001b[0m\u001b[0;34m)\u001b[0m\u001b[0;34m\u001b[0m\u001b[0;34m\u001b[0m\u001b[0m\n",
      "\u001b[0;32m/opt/conda/lib/python3.7/site-packages/pandas/core/series.py\u001b[0m in \u001b[0;36mapply\u001b[0;34m(self, func, convert_dtype, args, **kwds)\u001b[0m\n\u001b[1;32m   4036\u001b[0m             \u001b[0;32melse\u001b[0m\u001b[0;34m:\u001b[0m\u001b[0;34m\u001b[0m\u001b[0;34m\u001b[0m\u001b[0m\n\u001b[1;32m   4037\u001b[0m                 \u001b[0mvalues\u001b[0m \u001b[0;34m=\u001b[0m \u001b[0mself\u001b[0m\u001b[0;34m.\u001b[0m\u001b[0mastype\u001b[0m\u001b[0;34m(\u001b[0m\u001b[0mobject\u001b[0m\u001b[0;34m)\u001b[0m\u001b[0;34m.\u001b[0m\u001b[0mvalues\u001b[0m\u001b[0;34m\u001b[0m\u001b[0;34m\u001b[0m\u001b[0m\n\u001b[0;32m-> 4038\u001b[0;31m                 \u001b[0mmapped\u001b[0m \u001b[0;34m=\u001b[0m \u001b[0mlib\u001b[0m\u001b[0;34m.\u001b[0m\u001b[0mmap_infer\u001b[0m\u001b[0;34m(\u001b[0m\u001b[0mvalues\u001b[0m\u001b[0;34m,\u001b[0m \u001b[0mf\u001b[0m\u001b[0;34m,\u001b[0m \u001b[0mconvert\u001b[0m\u001b[0;34m=\u001b[0m\u001b[0mconvert_dtype\u001b[0m\u001b[0;34m)\u001b[0m\u001b[0;34m\u001b[0m\u001b[0;34m\u001b[0m\u001b[0m\n\u001b[0m\u001b[1;32m   4039\u001b[0m \u001b[0;34m\u001b[0m\u001b[0m\n\u001b[1;32m   4040\u001b[0m         \u001b[0;32mif\u001b[0m \u001b[0mlen\u001b[0m\u001b[0;34m(\u001b[0m\u001b[0mmapped\u001b[0m\u001b[0;34m)\u001b[0m \u001b[0;32mand\u001b[0m \u001b[0misinstance\u001b[0m\u001b[0;34m(\u001b[0m\u001b[0mmapped\u001b[0m\u001b[0;34m[\u001b[0m\u001b[0;36m0\u001b[0m\u001b[0;34m]\u001b[0m\u001b[0;34m,\u001b[0m \u001b[0mSeries\u001b[0m\u001b[0;34m)\u001b[0m\u001b[0;34m:\u001b[0m\u001b[0;34m\u001b[0m\u001b[0;34m\u001b[0m\u001b[0m\n",
      "\u001b[0;32mpandas/_libs/lib.pyx\u001b[0m in \u001b[0;36mpandas._libs.lib.map_infer\u001b[0;34m()\u001b[0m\n",
      "\u001b[0;32m<ipython-input-28-108177a55ac2>\u001b[0m in \u001b[0;36m<lambda>\u001b[0;34m(x)\u001b[0m\n\u001b[1;32m     12\u001b[0m \u001b[0mscripts\u001b[0m\u001b[0;34m.\u001b[0m\u001b[0mhead\u001b[0m\u001b[0;34m(\u001b[0m\u001b[0;34m)\u001b[0m\u001b[0;34m\u001b[0m\u001b[0;34m\u001b[0m\u001b[0m\n\u001b[1;32m     13\u001b[0m \u001b[0;34m\u001b[0m\u001b[0m\n\u001b[0;32m---> 14\u001b[0;31m \u001b[0mscripts\u001b[0m\u001b[0;34m[\u001b[0m\u001b[0;34m'opioid'\u001b[0m\u001b[0;34m]\u001b[0m \u001b[0;34m=\u001b[0m \u001b[0mscripts\u001b[0m \u001b[0;34m[\u001b[0m \u001b[0;34m'bnf_code'\u001b[0m \u001b[0;34m]\u001b[0m\u001b[0;34m.\u001b[0m\u001b[0mapply\u001b[0m\u001b[0;34m(\u001b[0m\u001b[0;32mlambda\u001b[0m \u001b[0mx\u001b[0m\u001b[0;34m:\u001b[0m \u001b[0;36m1\u001b[0m \u001b[0;32mif\u001b[0m \u001b[0mx\u001b[0m \u001b[0;32min\u001b[0m \u001b[0mchem_sub\u001b[0m \u001b[0;32melse\u001b[0m \u001b[0;36m0\u001b[0m\u001b[0;34m)\u001b[0m\u001b[0;34m\u001b[0m\u001b[0;34m\u001b[0m\u001b[0m\n\u001b[0m\u001b[1;32m     15\u001b[0m \u001b[0mstd_devn\u001b[0m \u001b[0;34m=\u001b[0m \u001b[0mscripts\u001b[0m\u001b[0;34m.\u001b[0m\u001b[0mopioid\u001b[0m\u001b[0;34m.\u001b[0m\u001b[0mstd\u001b[0m \u001b[0;34m(\u001b[0m\u001b[0;34m)\u001b[0m\u001b[0;34m\u001b[0m\u001b[0;34m\u001b[0m\u001b[0m\n\u001b[1;32m     16\u001b[0m \u001b[0moverall_rate\u001b[0m \u001b[0;34m=\u001b[0m \u001b[0mscripts\u001b[0m\u001b[0;34m.\u001b[0m\u001b[0mopioid\u001b[0m\u001b[0;34m.\u001b[0m\u001b[0mmean\u001b[0m\u001b[0;34m(\u001b[0m\u001b[0;34m)\u001b[0m\u001b[0;34m\u001b[0m\u001b[0;34m\u001b[0m\u001b[0m\n",
      "\u001b[0;31mNameError\u001b[0m: name 'chem_sub' is not defined"
     ]
    }
   ],
   "source": [
    "opioids = ['morphine', 'oxycodone', 'methadone', \n",
    "           'fentanyl', 'pethidine', 'buprenorphine',\n",
    "           'propoxyphene', 'codeine']\n",
    "\n",
    "'|'.join(opioids)\n",
    "\n",
    "mask = chem['NAME'].str.contains('|'.join(opioids), case=False)\n",
    "opioid_codes = chem[mask]['CHEM SUB']\n",
    "opioid_codes.head()\n",
    "\n",
    "scripts['opioids'] = scripts['bnf_code'].isin(opioid_codes).astype(int)\n",
    "scripts.head()\n",
    "\n",
    "scripts['opioid'] = scripts [ 'bnf_code' ].apply(lambda x: 1 if x in chem_sub else 0)\n",
    "std_devn = scripts.opioid.std ()\n",
    "overall_rate = scripts.opioid.mean()\n",
    "\n",
    "scripts = scripts.merge (practices, left_on = 'practice', right_on = 'code')\n",
    "scripts['cnt'] = 0\n",
    "\n",
    "opioids_per_practice = scripts.groupby('practice')['opioids'].mean()\n",
    "opioids_per_practice.head()\n",
    "\n",
    "relative_opioids_per_practice = (opioids_per_practice -\n",
    "                                 scripts['opioids'].mean())\n",
    "np.sqrt(scripts['opioids'].var()/scripts['practice'].value_counts()).head()\n",
    "standard_error_per_practice = np.sqrt(scripts['opioids'].var()/scripts['practice'].value_counts())\n",
    "opioid_scores = relative_opioids_per_practice / standard_error_per_practice\n",
    "\n",
    "practices.code.nunique()\n",
    "\n",
    "\n",
    "(practices.sort_values(['code', 'name'])\n",
    " .drop_duplicates(subset=['code'], keep = 'first')).head()\n",
    "\n",
    "unique_practices = (practices.sort_values(['code', 'name'])\n",
    " .drop_duplicates(subset=['code'], keep = 'first'))\n",
    "\n",
    "unique_practices = unique_practices[['code','name']]\n",
    "unique_practices.head()\n",
    "results = unique_practices.merge(opioid_scores.rename('score'),\n",
    "                      left_on = 'code',\n",
    "                      right_index=True)\n",
    "\n",
    "results = results.merge(scripts['practice'].value_counts().rename('count'),\n",
    "                       left_on ='code',\n",
    "                       right_index=True)\n",
    "\n",
    "results.sort_values(by='score', ascending=False, inplace=True)\n",
    "\n",
    "results.drop('code',axis=1, inplace=True)\n",
    "\n",
    "results.head()\n",
    "final = results[['name', 'score', 'count']].head(100)\n",
    "# get only the first 100 rows of the columns we need: name, score, count\n",
    "anomalies = list(final.itertuples(index=False, name=None))"
   ]
  },
  {
   "cell_type": "code",
   "execution_count": 29,
   "metadata": {},
   "outputs": [],
   "source": [
    "opioids = ['morphine', 'oxycodone', 'methadone', 'fentanyl', 'pethidine', 'buprenorphine', 'propoxyphene', 'codeine']\n",
    "\n",
    "mask= chem.NAME.str.contains('|'.join(opioids), case=False)\n",
    "\n",
    "#List of codes in the opioids list \n",
    "opioid_codes = chem[mask]['CHEM SUB']\n",
    "\n",
    "scripts['opioids'] = scripts['bnf_code'].isin(opioid_codes).astype(int)\n",
    "\n",
    "opioids_per_practice = scripts.groupby('practice')['opioids'].mean() \n",
    "\n",
    "relative_opioids_per_practice = opioids_per_practice-scripts['opioids'].mean() \n",
    "\n",
    "standard_error_per_practice = np.sqrt(scripts['opioids'].var()/scripts['practice'].value_counts()) \n",
    "\n",
    "opioid_scores = relative_opioids_per_practice / standard_error_per_practice\n",
    "\n",
    "unique_practices = (practices.sort_values(['code', 'name']).drop_duplicates(subset=['code'], keep='first'))[['code','name']]\n",
    "\n",
    "#Merge with score we need to rename the series since merge will not work with unnamed series \n",
    "results = unique_practices.merge(opioid_scores.rename('score'), left_on='code', right_index=True)\n",
    "#Merge with counts\n",
    "results = results.merge(scripts['practice'].value_counts().rename('count'), left_on='code', right_index=True)\n",
    "#Sort by z-score\n",
    "results.sort_values(by='score', ascending=False, inplace=True)\n",
    "#Remove the code column we don't need anymore \n",
    "results.drop('code', axis=1, inplace=True) \n",
    "\n",
    "anomalies = list(results.itertuples(index=False, name=None))[:100]"
   ]
  },
  {
   "cell_type": "code",
   "execution_count": null,
   "metadata": {},
   "outputs": [],
   "source": [
    "opioids = ['morphine', 'oxycodone', 'methadone', 'fentanyl', 'pethidine', 'buprenorphine', 'propoxyphene', 'codeine']"
   ]
  },
  {
   "cell_type": "markdown",
   "metadata": {},
   "source": [
    "These are generic names for drugs, not brand names. Generic drug names can be found using the `'bnf_code'` field in `scripts` along with the `chem` table.. Use the list of opioids provided above along with these fields to make a new field in the `scripts` data that flags whether the row corresponds with a opioid prescription."
   ]
  },
  {
   "cell_type": "code",
   "execution_count": null,
   "metadata": {},
   "outputs": [],
   "source": []
  },
  {
   "cell_type": "markdown",
   "metadata": {},
   "source": [
    "Now for each practice calculate the proportion of its prescriptions containing opioids.\n",
    "\n",
    "**Hint:** Consider the following list: `[0, 1, 1, 0, 0, 0]`. What proportion of the entries are 1s? What is the mean value?"
   ]
  },
  {
   "cell_type": "code",
   "execution_count": null,
   "metadata": {},
   "outputs": [],
   "source": [
    "opioids_per_practice = ..."
   ]
  },
  {
   "cell_type": "markdown",
   "metadata": {},
   "source": [
    "How do these proportions compare to the overall opioid prescription rate? Subtract off the proportion of all prescriptions that are opioids from each practice's proportion."
   ]
  },
  {
   "cell_type": "code",
   "execution_count": null,
   "metadata": {},
   "outputs": [],
   "source": [
    "relative_opioids_per_practice = ..."
   ]
  },
  {
   "cell_type": "markdown",
   "metadata": {},
   "source": [
    "Now that we know the difference between each practice's opioid prescription rate and the overall rate, we can identify which practices prescribe opioids at above average or below average rates. However, are the differences from the overall rate important or just random deviations? In other words, are the differences from the overall rate big or small?\n",
    "\n",
    "To answer this question we have to quantify the difference we would typically expect between a given practice's opioid prescription rate and the overall rate. This quantity is called the **standard error**, and is related to the **standard deviation**, $\\sigma$. The standard error in this case is\n",
    "\n",
    "$$ \\frac{\\sigma}{\\sqrt{n}} $$\n",
    "\n",
    "where $n$ is the number of prescriptions each practice made. Calculate the standard error for each practice. Then divide `relative_opioids_per_practice` by the standard errors. We'll call the final result `opioid_scores`."
   ]
  },
  {
   "cell_type": "code",
   "execution_count": null,
   "metadata": {},
   "outputs": [],
   "source": [
    "standard_error_per_practice = ...\n",
    "opioid_scores = ..."
   ]
  },
  {
   "cell_type": "markdown",
   "metadata": {},
   "source": [
    "The quantity we have calculated in `opioid_scores` is called a **z-score**:\n",
    "\n",
    "$$ \\frac{\\bar{X} - \\mu}{\\sqrt{\\sigma^2/n}} $$\n",
    "\n",
    "Here $\\bar{X}$ corresponds with the proportion for each practice, $\\mu$ corresponds with the proportion across all practices, $\\sigma^2$ corresponds with the variance of the proportion across all practices, and $n$ is the number of prescriptions made by each practice. Notice $\\bar{X}$ and $n$ will be different for each practice, while $\\mu$ and $\\sigma$ are determined across all prescriptions, and so are the same for every z-score. The z-score is a useful statistical tool used for hypothesis testing, finding outliers, and comparing data about different types of objects or events.\n",
    "\n",
    "Now that we've calculated this statistic, take the 100 practices with the largest z-score. Return your result as a list of tuples in the form `(practice_name, z-score, number_of_scripts)`. Sort your tuples by z-score in descending order. Note that some practice codes will correspond with multiple names. In this case, use the first match when sorting names alphabetically."
   ]
  },
  {
   "cell_type": "code",
   "execution_count": null,
   "metadata": {},
   "outputs": [],
   "source": [
    "unique_practices = ...\n",
    "anomalies = [(\"NATIONAL ENHANCED SERVICE\", 11.6958178629, 7)] * 100"
   ]
  },
  {
   "cell_type": "code",
   "execution_count": null,
   "metadata": {},
   "outputs": [],
   "source": [
    "results.head()"
   ]
  },
  {
   "cell_type": "code",
   "execution_count": 30,
   "metadata": {},
   "outputs": [
    {
     "name": "stdout",
     "output_type": "stream",
     "text": [
      "==================\n",
      "Your score:  1.0\n",
      "==================\n"
     ]
    }
   ],
   "source": [
    "grader.score.dw__script_anomalies(anomalies)"
   ]
  },
  {
   "cell_type": "markdown",
   "metadata": {},
   "source": [
    "## Question 5: script_growth\n",
    "\n",
    "Another way to identify anomalies is by comparing current data to historical data. In the case of identifying sites of drug abuse, we might compare a practice's current rate of opioid prescription to their rate 5 or 10 years ago. Unless the nature of the practice has changed, the profile of drugs they prescribe should be relatively stable. We might also want to identify trends through time for business reasons, identifying drugs that are gaining market share. That's what we'll do in this question.\n",
    "\n",
    "We'll load in beneficiary data from 6 months earlier, June 2016, and calculate the percent growth in prescription rate from June 2016 to January 2017 for each `bnf_name`. We'll return the 50 items with largest growth and the 50 items with the largest shrinkage (i.e. negative percent growth) as a list of tuples sorted by growth rate in descending order in the format `(script_name, growth_rate, raw_2016_count)`. You'll notice that many of the 50 fastest growing items have low counts of prescriptions in 2016. Filter out any items that were prescribed less than 50 times."
   ]
  },
  {
   "cell_type": "code",
   "execution_count": null,
   "metadata": {},
   "outputs": [],
   "source": [
    "scripts16 = ..."
   ]
  },
  {
   "cell_type": "code",
   "execution_count": null,
   "metadata": {},
   "outputs": [],
   "source": []
  },
  {
   "cell_type": "code",
   "execution_count": null,
   "metadata": {},
   "outputs": [],
   "source": [
    "script_growth = [(\"Butec_Transdermal Patch 5mcg\\/hr\", 3.4677419355, 62.0)] * 100"
   ]
  },
  {
   "cell_type": "code",
   "execution_count": null,
   "metadata": {},
   "outputs": [],
   "source": [
    "grader.score.dw__script_growth(script_growth)"
   ]
  },
  {
   "cell_type": "markdown",
   "metadata": {},
   "source": [
    "## Question 6: rare_scripts\n",
    "\n",
    "Does a practice's prescription costs originate from routine care or from reliance on rarely prescribed treatments? Commonplace treatments can carry lower costs than rare treatments because of efficiencies in large-scale production. While some specialist practices can't help but avoid prescribing rare medicines because there are no alternatives, some practices may be prescribing a unnecessary amount of brand-name products when generics are available. Let's identify practices whose costs disproportionately originate from rarely prescribed items.\n",
    "\n",
    "First we have to identify which `'bnf_code'` are rare. To do this, find the probability $p$ of a prescription having a particular `'bnf_code'` if the `'bnf_code'` was randomly chosen from the unique options in the beneficiary data. We will call a `'bnf_code'` rare if it is prescribed at a rate less than $0.1p$."
   ]
  },
  {
   "cell_type": "code",
   "execution_count": null,
   "metadata": {},
   "outputs": [],
   "source": [
    "p = ...\n",
    "rates = ...\n",
    "rare_codes = ...\n",
    "scripts['rare'] = ..."
   ]
  },
  {
   "cell_type": "markdown",
   "metadata": {},
   "source": [
    "Now for each practice, calculate the proportion of costs that originate from prescription of rare treatments (i.e. rare `'bnf_code'`). Use the `'act_cost'` field for this calculation."
   ]
  },
  {
   "cell_type": "code",
   "execution_count": null,
   "metadata": {},
   "outputs": [],
   "source": [
    "rare_cost_prop = ..."
   ]
  },
  {
   "cell_type": "markdown",
   "metadata": {},
   "source": [
    "Now we will calculate a z-score for each practice based on this proportion.\n",
    "First take the difference of `rare_cost_prop` and the proportion of costs originating from rare treatments across all practices."
   ]
  },
  {
   "cell_type": "code",
   "execution_count": null,
   "metadata": {},
   "outputs": [],
   "source": [
    "relative_rare_cost_prop = ..."
   ]
  },
  {
   "cell_type": "markdown",
   "metadata": {},
   "source": [
    "Now we will estimate the standard errors (i.e. the denominator of the z-score) by simply taking the standard deviation of this difference."
   ]
  },
  {
   "cell_type": "code",
   "execution_count": null,
   "metadata": {},
   "outputs": [],
   "source": [
    "standard_errors = ..."
   ]
  },
  {
   "cell_type": "markdown",
   "metadata": {},
   "source": [
    "Finally compute the z-scores. Return the practices with the top 100 z-scores in the form `(post_code, practice_name, z-score)`. Note that some practice codes will correspond with multiple names. In this case, use the first match when sorting names alphabetically."
   ]
  },
  {
   "cell_type": "code",
   "execution_count": null,
   "metadata": {},
   "outputs": [],
   "source": [
    "rare_scores = ..."
   ]
  },
  {
   "cell_type": "code",
   "execution_count": null,
   "metadata": {},
   "outputs": [],
   "source": [
    "rare_scripts = [(\"Y03472\", \"CONSULTANT DIABETES TEAM\", 16.2626871247)] * 100"
   ]
  },
  {
   "cell_type": "code",
   "execution_count": null,
   "metadata": {},
   "outputs": [],
   "source": [
    "grader.score.dw__rare_scripts(rare_scripts)"
   ]
  },
  {
   "cell_type": "markdown",
   "metadata": {},
   "source": [
    "*Copyright &copy; 2019 The Data Incubator.  All rights reserved.*"
   ]
  }
 ],
 "metadata": {
  "kernelspec": {
   "display_name": "Python 3",
   "language": "python",
   "name": "python3"
  },
  "language_info": {
   "codemirror_mode": {
    "name": "ipython",
    "version": 3
   },
   "file_extension": ".py",
   "mimetype": "text/x-python",
   "name": "python",
   "nbconvert_exporter": "python",
   "pygments_lexer": "ipython3",
   "version": "3.7.3"
  },
  "nbclean": true
 },
 "nbformat": 4,
 "nbformat_minor": 1
}
